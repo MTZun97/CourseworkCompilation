{
 "cells": [
  {
   "cell_type": "markdown",
   "metadata": {},
   "source": [
    "# Quiz 2"
   ]
  },
  {
   "cell_type": "markdown",
   "metadata": {},
   "source": [
    "Optionally refer to Lessons 01-12 in the [open textbook](https://github.com/0todd0000/OpenBook-DataAnalysisPracticeInPythonAndJupyter) when completing this quiz.\n",
    "\n",
    "<br>\n",
    "\n",
    "**Instructions**:\n",
    "* Use the empty Markdown cells below for your answers.\n",
    "* Enter only ONE number in each answer cell. \n",
    "\n",
    "<br>"
   ]
  },
  {
   "cell_type": "markdown",
   "metadata": {},
   "source": [
    "___\n",
    "\n",
    "### Example question"
   ]
  },
  {
   "cell_type": "markdown",
   "metadata": {},
   "source": [
    "**Question**:  What is the Markdown code for writing \"Quiz 2\" as a heading?\n",
    "\n",
    "1. `#Quiz 2`\n",
    "1. `# Quiz 2`\n",
    "1. `*Quiz 2`\n",
    "1. `* Quiz 2`"
   ]
  },
  {
   "cell_type": "markdown",
   "metadata": {},
   "source": [
    "2"
   ]
  },
  {
   "cell_type": "markdown",
   "metadata": {},
   "source": [
    "<br>\n",
    "<br>\n",
    "<br>\n",
    "\n",
    "____\n",
    "\n",
    "<br>\n",
    "<br>\n",
    "<br>"
   ]
  },
  {
   "cell_type": "markdown",
   "metadata": {},
   "source": [
    "<br>\n",
    "\n",
    "<span style=\"color:#007DD3\"><b>Question 1:</b>   In hypothesis testing, what is another term for \"alpha\"?</span>\n",
    "\n",
    "\n",
    "\n",
    "<span style=\"color:#007DD3\">1. Type I error rate</span>\n",
    "\n",
    "<span style=\"color:#007DD3\">2. Type II error rate</span>\n",
    "\n",
    "<span style=\"color:#007DD3\">3. Type I control</span>\n",
    "\n",
    "<span style=\"color:#007DD3\">4. Type II control</span>\n",
    "\n",
    "\n",
    "\n",
    "<br>"
   ]
  },
  {
   "cell_type": "markdown",
   "metadata": {},
   "source": [
    "1"
   ]
  },
  {
   "cell_type": "markdown",
   "metadata": {},
   "source": [
    "<br>\n",
    "\n",
    "<span style=\"color:#007DD3\"><b>Question 2:</b>   If the p-value is less than alpha, the experimental result is said to be:</span>\n",
    "\n",
    "\n",
    "\n",
    "<span style=\"color:#007DD3\">1. Non-random</span>\n",
    "\n",
    "<span style=\"color:#007DD3\">2. Significantly large</span>\n",
    "\n",
    "<span style=\"color:#007DD3\">3. Statistically significant</span>\n",
    "\n",
    "<span style=\"color:#007DD3\">4. Unlikely to be false</span>\n",
    "\n",
    "<br>"
   ]
  },
  {
   "cell_type": "markdown",
   "metadata": {},
   "source": [
    "3"
   ]
  },
  {
   "cell_type": "markdown",
   "metadata": {},
   "source": [
    "<br>\n",
    "\n",
    "<span style=\"color:#007DD3\"><b>Question 3:</b>   An experiment was conducted on 10 subjects, involving <code>N</code> experimental tasks (<code>N > 0</code>). Which of the following has the smallest <code>N</code>?</span>\n",
    "\n",
    "\n",
    "\n",
    "<span style=\"color:#007DD3\">1. ANOVA</span>\n",
    "\n",
    "<span style=\"color:#007DD3\">2. one-sample t test</span>\n",
    "\n",
    "<span style=\"color:#007DD3\">3. paired t test</span>\n",
    "\n",
    "<span style=\"color:#007DD3\">4. two-sample t test</span>\n",
    "\n",
    "<br>"
   ]
  },
  {
   "cell_type": "markdown",
   "metadata": {},
   "source": [
    "2"
   ]
  },
  {
   "cell_type": "markdown",
   "metadata": {},
   "source": [
    "<br>\n",
    "\n",
    "<span style=\"color:#007DD3\"><b>Question 4:</b>   What does <code>np.random.seed</code> do?</span>\n",
    "\n",
    "\n",
    "\n",
    "<span style=\"color:#007DD3\">1. Allows you to reproduce random numbers</span>\n",
    "\n",
    "<span style=\"color:#007DD3\">2. Creates random numbers from the \"Seed\" distribution</span>\n",
    "\n",
    "<span style=\"color:#007DD3\">3. Creates random Uniform numbers</span>\n",
    "\n",
    "<span style=\"color:#007DD3\">4. Creates random Normal numbers</span>\n",
    "\n",
    "<br>"
   ]
  },
  {
   "cell_type": "markdown",
   "metadata": {},
   "source": [
    "1"
   ]
  },
  {
   "cell_type": "markdown",
   "metadata": {},
   "source": [
    "<br>\n",
    "\n",
    "<span style=\"color:#007DD3\"><b>Question 5:</b>   Consider the command: <code>x = np.random.randn(10)</code>. Is the sample mean always zero?</span>\n",
    "\n",
    "\n",
    "\n",
    "<span style=\"color:#007DD3\">1. Yes</span>\n",
    "\n",
    "<span style=\"color:#007DD3\">2. No</span>\n",
    "\n",
    "<br>"
   ]
  },
  {
   "cell_type": "markdown",
   "metadata": {},
   "source": [
    "2"
   ]
  },
  {
   "cell_type": "markdown",
   "metadata": {},
   "source": [
    "<br>\n",
    "\n",
    "<span style=\"color:#007DD3\"><b>Question 6:</b>   When simulating experiments, numerically-generated distributions converge to analytical distributions over many simulation iterations.</span>\n",
    "\n",
    "\n",
    "\n",
    "<span style=\"color:#007DD3\">1. True</span>\n",
    "\n",
    "<span style=\"color:#007DD3\">2. False</span>\n",
    "\n",
    "<br>"
   ]
  },
  {
   "cell_type": "markdown",
   "metadata": {},
   "source": [
    "1"
   ]
  },
  {
   "cell_type": "markdown",
   "metadata": {},
   "source": [
    "<br>\n",
    "\n",
    "<span style=\"color:#007DD3\"><b>Question 7:</b>   Which is the best function for visualizing a single variable's distribution?</span>\n",
    "\n",
    "\n",
    "\n",
    "<span style=\"color:#007DD3\">1. <code>plt.hist</code></span>\n",
    "\n",
    "<span style=\"color:#007DD3\">2. <code>plt.pcolor</code></span>\n",
    "\n",
    "<span style=\"color:#007DD3\">3. <code>plt.plot</code></span>\n",
    "\n",
    "<span style=\"color:#007DD3\">4. <code>plt.scatter</code></span>\n",
    "\n",
    "\n",
    "\n",
    "<br>"
   ]
  },
  {
   "cell_type": "markdown",
   "metadata": {},
   "source": [
    "1"
   ]
  },
  {
   "cell_type": "markdown",
   "metadata": {},
   "source": [
    "<br>\n",
    "\n",
    "<span style=\"color:#007DD3\"><b>Question 8:</b>   What is the (approximate) maximum value expected for the standard uniform distribution?</span>\n",
    "\n",
    "\n",
    "\n",
    "<span style=\"color:#007DD3\">1. 0</span>\n",
    "\n",
    "<span style=\"color:#007DD3\">2. 1</span>\n",
    "\n",
    "<span style=\"color:#007DD3\">3. 3</span>\n",
    "\n",
    "<span style=\"color:#007DD3\">4. 10</span>\n",
    "\n",
    "<br>"
   ]
  },
  {
   "cell_type": "markdown",
   "metadata": {},
   "source": [
    "2"
   ]
  },
  {
   "cell_type": "markdown",
   "metadata": {},
   "source": [
    "<br>\n",
    "\n",
    "<span style=\"color:#007DD3\"><b>Question 9:</b>   No correlation implies no relation.</span>\n",
    "\n",
    "\n",
    "\n",
    "<span style=\"color:#007DD3\">1. True</span>\n",
    "\n",
    "<span style=\"color:#007DD3\">2. False</span>\n",
    "\n",
    "<br>"
   ]
  },
  {
   "cell_type": "markdown",
   "metadata": {},
   "source": [
    "2"
   ]
  },
  {
   "cell_type": "markdown",
   "metadata": {},
   "source": [
    "<br>\n",
    "\n",
    "<span style=\"color:#007DD3\"><b>Question 10:</b>   Which is NOT a machine learning technique?</span>\n",
    "\n",
    "\n",
    "\n",
    "<span style=\"color:#007DD3\">1. ANOVA</span>\n",
    "\n",
    "<span style=\"color:#007DD3\">2. Artificial Neural Network</span>\n",
    "\n",
    "<span style=\"color:#007DD3\">3. K-Means Clustering</span>\n",
    "\n",
    "<span style=\"color:#007DD3\">4. PCA</span>\n",
    "\n",
    "<br>"
   ]
  },
  {
   "cell_type": "markdown",
   "metadata": {},
   "source": [
    "1"
   ]
  },
  {
   "cell_type": "markdown",
   "metadata": {},
   "source": [
    "<br>\n",
    "\n",
    "<span style=\"color:#007DD3\"><b>Question 11:</b>   In classification problems, what are “labels”?</span>\n",
    "\n",
    "\n",
    "\n",
    "<span style=\"color:#007DD3\">1. Optional algorithm parameters.</span>\n",
    "\n",
    "<span style=\"color:#007DD3\">2. Functions.</span>\n",
    "\n",
    "<span style=\"color:#007DD3\">3. Function names.</span>\n",
    "\n",
    "<span style=\"color:#007DD3\">4. The target variable we wish to predict.</span>\n",
    "\n",
    "<br>"
   ]
  },
  {
   "cell_type": "markdown",
   "metadata": {},
   "source": [
    "4"
   ]
  },
  {
   "cell_type": "markdown",
   "metadata": {},
   "source": [
    "<br>\n",
    "\n",
    "<span style=\"color:#007DD3\"><b>Question 12:</b>   What is the main difference between supervised and unsupervised learning?</span>\n",
    "\n",
    "\n",
    "\n",
    "<span style=\"color:#007DD3\">1. Only one makes predictions.</span>\n",
    "\n",
    "<span style=\"color:#007DD3\">2. Only one learns.</span>\n",
    "\n",
    "<span style=\"color:#007DD3\">3. Only one is practically useful.</span>\n",
    "\n",
    "<span style=\"color:#007DD3\">4. Only one uses known labels.</span>\n",
    "\n",
    "\n",
    "\n",
    "<br>"
   ]
  },
  {
   "cell_type": "markdown",
   "metadata": {},
   "source": [
    "4"
   ]
  },
  {
   "cell_type": "markdown",
   "metadata": {},
   "source": [
    "<br>\n",
    "\n",
    "<span style=\"color:#007DD3\"><b>Question 13:</b>   Which is a supervised learning technique?</span>\n",
    "\n",
    "\n",
    "\n",
    "<span style=\"color:#007DD3\">1. PCA</span>\n",
    "\n",
    "<span style=\"color:#007DD3\">2. K-Means</span>\n",
    "\n",
    "<span style=\"color:#007DD3\">3. K-Nearest Neighbors</span>\n",
    "\n",
    "<span style=\"color:#007DD3\">4. Normalization</span>\n",
    "\n",
    "\n",
    "\n",
    "<br>"
   ]
  },
  {
   "cell_type": "markdown",
   "metadata": {},
   "source": [
    "3"
   ]
  },
  {
   "cell_type": "markdown",
   "metadata": {},
   "source": [
    "<br>\n",
    "\n",
    "<span style=\"color:#007DD3\"><b>Question 14:</b>   In classification validation analysis, what is the “training set”?</span>\n",
    "\n",
    "\n",
    "\n",
    "<span style=\"color:#007DD3\">1. A randomly selected data subset.</span>\n",
    "\n",
    "<span style=\"color:#007DD3\">2. The data from which a machine learns.</span>\n",
    "\n",
    "<span style=\"color:#007DD3\">3. The primary data used to evaluate machine learning performance.</span>\n",
    "\n",
    "<span style=\"color:#007DD3\">4. A collection of values.</span>\n",
    "\n",
    "<span style=\"color:#007DD3\">5. All above are correct.</span>\n",
    "\n",
    "<span style=\"color:#007DD3\">6. Only 1, 2 and 4 are correct.</span>\n",
    "\n",
    "\n",
    "\n",
    "<br>"
   ]
  },
  {
   "cell_type": "markdown",
   "metadata": {},
   "source": [
    "6"
   ]
  },
  {
   "cell_type": "markdown",
   "metadata": {},
   "source": [
    "<br>\n",
    "\n",
    "<span style=\"color:#007DD3\"><b>Question 15:</b>   In classification problems, which statements are TRUE regarding “decision surfaces”?</span>\n",
    "\n",
    "\n",
    "\n",
    "<span style=\"color:#007DD3\">1. Decision surfaces are statistically significant surface.</span>\n",
    "\n",
    "<span style=\"color:#007DD3\">2. Decisions surfaces are unaffected by changes in the training data.</span>\n",
    "\n",
    "<span style=\"color:#007DD3\">3. Descision surfaces can be used as a visualization tool used to understand a classifier’s decisions.</span>\n",
    "\n",
    "<span style=\"color:#007DD3\">4. Decision surfaces represent a graphical depiction of predicted labels.</span>\n",
    "\n",
    "<span style=\"color:#007DD3\">5. All above are correct.</span>\n",
    "\n",
    "<span style=\"color:#007DD3\">6. Only 1, 3 and 4 are correct.</span>\n",
    "\n",
    "<span style=\"color:#007DD3\">7. Only 3 and 4 are correct.</span>\n",
    "\n",
    "\n",
    "\n",
    "\n",
    "\n",
    "<br>"
   ]
  },
  {
   "cell_type": "markdown",
   "metadata": {},
   "source": [
    "7"
   ]
  },
  {
   "cell_type": "markdown",
   "metadata": {},
   "source": [
    "Excellent! Well done."
   ]
  },
  {
   "cell_type": "code",
   "execution_count": null,
   "metadata": {},
   "outputs": [],
   "source": []
  }
 ],
 "metadata": {
  "kernelspec": {
   "display_name": "Python 3 (ipykernel)",
   "language": "python",
   "name": "python3"
  },
  "language_info": {
   "codemirror_mode": {
    "name": "ipython",
    "version": 3
   },
   "file_extension": ".py",
   "mimetype": "text/x-python",
   "name": "python",
   "nbconvert_exporter": "python",
   "pygments_lexer": "ipython3",
   "version": "3.9.7"
  }
 },
 "nbformat": 4,
 "nbformat_minor": 4
}
