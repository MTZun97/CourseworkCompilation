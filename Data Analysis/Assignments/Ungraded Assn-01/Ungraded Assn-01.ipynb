{
 "cells": [
  {
   "cell_type": "code",
   "execution_count": 1,
   "id": "aa280e44",
   "metadata": {},
   "outputs": [],
   "source": [
    "# Importing libraries\n",
    "import numpy as np\n",
    "from scipy import stats\n",
    "import matplotlib.pyplot as plt\n",
    "\n",
    "# Loading socioeconomic.csv file\n",
    "a = np.loadtxt(\"socioeconomic.csv\", delimiter = \",\")\n",
    "income, education, prestige = a.T"
   ]
  },
  {
   "cell_type": "code",
   "execution_count": 2,
   "id": "40ca710b",
   "metadata": {},
   "outputs": [],
   "source": [
    "# Defining central and dispersion function\n",
    "def central(x):\n",
    "    x0 = np.mean(x)\n",
    "    x1 = np.median(x)\n",
    "    x2 = stats.mode(x).mode\n",
    "\n",
    "    print(\"   mean                   =%.1f\"%x0)\n",
    "    print(\"   median                 =%.1f\"%x1)\n",
    "    print(\"   mode                   =%.1f\"%x2)\n",
    "    return x0,x1,x2\n",
    "\n",
    "def dispersion(y):\n",
    "    y0 = np.min(y)\n",
    "    y1 = np.max(y)\n",
    "    y2 = y1 - y0\n",
    "    y3 = np.percentile(y,25)\n",
    "    y4 = np.percentile(y,75)\n",
    "    y5 = y4-y3\n",
    "    y6 = np.std(y)\n",
    "    \n",
    "    print(\"   Min                   =%.1f\"%y0)\n",
    "    print(\"   Max                   =%.1f\"%y1)\n",
    "    print(\"   Range                 =%.1f\"%y2)\n",
    "    print(\"   25th Percentile       =%.1f\"%y3)\n",
    "    print(\"   75th Percentile       =%.1f\"%y4)\n",
    "    print(\"   Inter-quantile range  =%.1f\"%y5)\n",
    "    print(\"   Standard Deviation    =%.1f\"%y6)\n",
    "    return y0, y1, y2, y3, y4, y5, y6\n"
   ]
  },
  {
   "cell_type": "code",
   "execution_count": 3,
   "id": "dab609b3",
   "metadata": {},
   "outputs": [
    {
     "name": "stdout",
     "output_type": "stream",
     "text": [
      "Income\n",
      "   mean                   =41.9\n",
      "   median                 =42.0\n",
      "   mode                   =21.0\n",
      "\n",
      "Education\n",
      "   mean                   =52.6\n",
      "   median                 =45.0\n",
      "   mode                   =86.0\n",
      "\n",
      "Prestige\n",
      "   mean                   =47.7\n",
      "   median                 =41.0\n",
      "   mode                   =10.0\n",
      "\n"
     ]
    }
   ],
   "source": [
    "#Calculating the Central Tendency\n",
    "print(\"Income\")\n",
    "central(income)\n",
    "print()\n",
    "\n",
    "print(\"Education\")\n",
    "central(education)\n",
    "print()\n",
    "\n",
    "print(\"Prestige\")\n",
    "central(prestige)\n",
    "print()"
   ]
  },
  {
   "cell_type": "code",
   "execution_count": 4,
   "id": "007458ac",
   "metadata": {},
   "outputs": [
    {
     "name": "stdout",
     "output_type": "stream",
     "text": [
      "Income\n",
      "   Min                   =7.0\n",
      "   Max                   =81.0\n",
      "   Range                 =74.0\n",
      "   25th Percentile       =21.0\n",
      "   75th Percentile       =64.0\n",
      "   Inter-quantile range  =43.0\n",
      "   Standard Deviation    =24.2\n",
      "\n",
      "Education\n",
      "   Min                   =7.0\n",
      "   Max                   =100.0\n",
      "   Range                 =93.0\n",
      "   25th Percentile       =26.0\n",
      "   75th Percentile       =84.0\n",
      "   Inter-quantile range  =58.0\n",
      "   Standard Deviation    =29.4\n",
      "\n",
      "Prestige\n",
      "   Min                   =3.0\n",
      "   Max                   =97.0\n",
      "   Range                 =94.0\n",
      "   25th Percentile       =16.0\n",
      "   75th Percentile       =81.0\n",
      "   Inter-quantile range  =65.0\n",
      "   Standard Deviation    =31.2\n",
      "\n"
     ]
    }
   ],
   "source": [
    "# Calculating the Dispersion\n",
    "print(\"Income\")\n",
    "dispersion(income)\n",
    "print()\n",
    "\n",
    "print(\"Education\")\n",
    "dispersion(education)\n",
    "print()\n",
    "\n",
    "print(\"Prestige\")\n",
    "dispersion(prestige)\n",
    "print()"
   ]
  },
  {
   "cell_type": "code",
   "execution_count": 5,
   "id": "2e5a516b",
   "metadata": {},
   "outputs": [],
   "source": [
    "# Loading election96.csv\n",
    "b = np.loadtxt(\"election96.csv\", delimiter = \",\")\n",
    "age, tvnews, vote = b.T"
   ]
  },
  {
   "cell_type": "code",
   "execution_count": 6,
   "id": "d02bb9a3",
   "metadata": {},
   "outputs": [
    {
     "name": "stdout",
     "output_type": "stream",
     "text": [
      "Vote for Clinton =  551\n",
      "Vote for Dole    =  393\n"
     ]
    }
   ],
   "source": [
    "#Vote\n",
    "n_Clinton = np.sum(vote==0)\n",
    "n_Dole = np.sum(vote==1)\n",
    "print(\"Vote for Clinton = \",n_Clinton)\n",
    "print(\"Vote for Dole    = \",n_Dole)"
   ]
  },
  {
   "cell_type": "code",
   "execution_count": 7,
   "id": "7b46d09b",
   "metadata": {},
   "outputs": [
    {
     "name": "stdout",
     "output_type": "stream",
     "text": [
      "Central Tendency for Age\n",
      "   mean                   =47.0\n",
      "   median                 =44.0\n",
      "   mode                   =35.0\n",
      "\n",
      "Dispersion for Age\n",
      "   Min                   =19.0\n",
      "   Max                   =91.0\n",
      "   Range                 =72.0\n",
      "   25th Percentile       =34.0\n",
      "   75th Percentile       =58.0\n",
      "   Inter-quantile range  =24.0\n",
      "   Standard Deviation    =16.4\n",
      "\n"
     ]
    }
   ],
   "source": [
    "# Task 2&3: Central Tendency & Dispersion Calculation for age\n",
    "print(\"Central Tendency for Age\")\n",
    "central(age)\n",
    "print()\n",
    "\n",
    "print(\"Dispersion for Age\")\n",
    "dispersion(age)\n",
    "print()"
   ]
  },
  {
   "cell_type": "code",
   "execution_count": 12,
   "id": "8a1b8788",
   "metadata": {},
   "outputs": [
    {
     "name": "stdout",
     "output_type": "stream",
     "text": [
      "0.5063559322033898\n",
      "No. of the surveyed people =  478\n"
     ]
    }
   ],
   "source": [
    "# Task 4\n",
    "n_people = np.sum(np.logical_and(age > 34, age <= 58))\n",
    "n = n_people/len(age)\n",
    "print(n)\n",
    "print(\"No. of the surveyed people = \",n_people)"
   ]
  },
  {
   "cell_type": "code",
   "execution_count": 9,
   "id": "d9f0662f",
   "metadata": {},
   "outputs": [
    {
     "data": {
      "image/png": "[encoded data removed]",
      "text/plain": [
       "<Figure size 432x288 with 1 Axes>"
      ]
     },
     "metadata": {
      "needs_background": "light"
     },
     "output_type": "display_data"
    }
   ],
   "source": [
    "# Task 5\n",
    "plt.figure()\n",
    "plt.hist(age)\n",
    "plt.axvline(np.mean(age), color = \"red\", label = \"Mean\")\n",
    "plt.axvline(np.median(age), color = \"blue\", label = \"Median\")\n",
    "plt.axvline(stats.mode(age).mode, color = \"green\", label  = \"Mode\")\n",
    "plt.legend()\n",
    "plt.show();"
   ]
  },
  {
   "cell_type": "code",
   "execution_count": 10,
   "id": "8482c6ab",
   "metadata": {},
   "outputs": [
    {
     "name": "stdout",
     "output_type": "stream",
     "text": [
      "Skewness\n",
      "      Age             =0.52\n",
      "      TV News         =-0.02\n",
      "\n",
      "Kurtosis\n",
      "      Age             =-0.55\n",
      "      TV News         =-1.52\n"
     ]
    },
    {
     "data": {
      "image/png": "[encoded data removed]",
      "text/plain": [
       "<Figure size 720x216 with 2 Axes>"
      ]
     },
     "metadata": {
      "needs_background": "light"
     },
     "output_type": "display_data"
    }
   ],
   "source": [
    "# Question 6\n",
    "fig,ax = plt.subplots(1,2, figsize = (10,3))\n",
    "ax[0].hist(age)\n",
    "ax[1].hist(tvnews)\n",
    "ax[0].set_title(\"Age\")\n",
    "ax[1].set_title(\"TV News\");\n",
    "\n",
    "# Calculating Skewness and Kurtosis\n",
    "s0 = stats.skew(age)\n",
    "s1 = stats.skew(tvnews)\n",
    "k0 = stats.kurtosis(age)\n",
    "k1 = stats.kurtosis(tvnews)\n",
    "\n",
    "print(\"Skewness\")\n",
    "print(\"      Age             =%.2f\"%s0)\n",
    "print(\"      TV News         =%.2f\"%s1)\n",
    "print()\n",
    "print(\"Kurtosis\")\n",
    "print(\"      Age             =%.2f\"%k0)\n",
    "print(\"      TV News         =%.2f\"%k1)"
   ]
  },
  {
   "cell_type": "code",
   "execution_count": null,
   "id": "b3f14cb7",
   "metadata": {},
   "outputs": [],
   "source": []
  }
 ],
 "metadata": {
  "kernelspec": {
   "display_name": "Python 3 (ipykernel)",
   "language": "python",
   "name": "python3"
  },
  "language_info": {
   "codemirror_mode": {
    "name": "ipython",
    "version": 3
   },
   "file_extension": ".py",
   "mimetype": "text/x-python",
   "name": "python",
   "nbconvert_exporter": "python",
   "pygments_lexer": "ipython3",
   "version": "3.9.7"
  }
 },
 "nbformat": 4,
 "nbformat_minor": 5
}
