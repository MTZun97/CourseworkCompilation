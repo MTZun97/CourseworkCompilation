{
 "cells": [
  {
   "cell_type": "markdown",
   "id": "f1ec7f93",
   "metadata": {},
   "source": [
    "# (1) Text\n",
    "It is easy to write in Markdown using *italics* and **bold**.\n",
    "\n",
    "It is also easy to ~~cross out~~ words.\n",
    "\n",
    "マークダウンは日本語も簡単にできます\n",
    "\n",
    "---"
   ]
  },
  {
   "cell_type": "markdown",
   "id": "31821190",
   "metadata": {},
   "source": [
    "# (2) Headings\n",
    "## This is a Heading (Level 2)\n",
    "## This is a Heading (Level 3)\n",
    "### This is a Heading (Level 4)\n",
    "---\n"
   ]
  },
  {
   "cell_type": "markdown",
   "id": "a0e48d0c",
   "metadata": {},
   "source": [
    "# (3) Decorations\n",
    "Type \"___\" to display a horzontal line:\n",
    "\n",
    "___"
   ]
  },
  {
   "cell_type": "markdown",
   "id": "634d6c5e",
   "metadata": {},
   "source": [
    "# <a name = \"lists\"></a>(4) Lists\n",
    "This is a numbered lists:\n",
    "1. This is the first item\n",
    "2. This is the second item\n",
    "3. This is the third item\n",
    "---\n",
    "This is a normal list:\n",
    "* This is the first item\n",
    "* This is the second item\n",
    "* This is the third item\n",
    "---\n",
    "This is a list with checked items:\n",
    "* [x] A checked item\n",
    "* [ ] An unchecked item\n",
    "---\n",
    "\n",
    "If I want to write down the number list: instead of numbering it 1,2,3, just write 1,1,1 so that I wont need to re-number it when I want to add in between."
   ]
  },
  {
   "cell_type": "markdown",
   "id": "a2348329",
   "metadata": {},
   "source": [
    "# (5) Tables\n",
    "This is a table:\n",
    "\n",
    "Row|Column 1|Column 2\n",
    "---|---|---\n",
    "1|Cell (1,1)|Cell (1,2)\n",
    "2|Cell (2,1)|Cell (2,2)\n",
    "3|Cell (3,1)|Cell (3,2)\n",
    "\n",
    "---"
   ]
  },
  {
   "cell_type": "markdown",
   "id": "c6b82095",
   "metadata": {},
   "source": [
    "# (6) Links\n",
    "Here is a link to a markdown guide: [https://guides.github.com/features/mastering-markdown/](https://guides.github.com/features/mastering-markdown/)\n",
    "\n",
    "[Here is the same link](https://guides.github.com/features/mastering-markdown/) (with the web address hidden)\n",
    "\n",
    "---"
   ]
  },
  {
   "cell_type": "markdown",
   "id": "05ffceb0",
   "metadata": {},
   "source": [
    "# (7) Images\n",
    "Here is this course's logo: \"logo.jpg\"\n",
    "\n",
    "![](logo.jpg)\n",
    "\n",
    "---"
   ]
  },
  {
   "cell_type": "markdown",
   "id": "1ae7007d",
   "metadata": {},
   "source": [
    "# (8) Python\n",
    "Python comands can be run directly in jupyter notebooks."
   ]
  },
  {
   "cell_type": "code",
   "execution_count": 1,
   "id": "cd372d3e",
   "metadata": {},
   "outputs": [
    {
     "name": "stdout",
     "output_type": "stream",
     "text": [
      "Hello World!\n"
     ]
    }
   ],
   "source": [
    "print (\"Hello World!\")"
   ]
  },
  {
   "cell_type": "markdown",
   "id": "2589a691",
   "metadata": {},
   "source": [
    "---\n",
    "# Bonus !!!\n",
    "Create a [link](#lists) that will take you to the \"Lists\" sectioin above.\n",
    "\n",
    "If I want to add a level 2 title, just add one # in the link even when the title is with ##."
   ]
  },
  {
   "cell_type": "markdown",
   "id": "d02dcbb3",
   "metadata": {},
   "source": [
    "Excellent! 8 / 8\n",
    "\n",
    "Superb Markdown coding, very well done!\n",
    "\n",
    "+1 Bonus = 8 / 8 (cannot get more than maximum points)"
   ]
  },
  {
   "cell_type": "code",
   "execution_count": null,
   "id": "088b7035",
   "metadata": {},
   "outputs": [],
   "source": []
  }
 ],
 "metadata": {
  "kernelspec": {
   "display_name": "Python 3 (ipykernel)",
   "language": "python",
   "name": "python3"
  },
  "language_info": {
   "codemirror_mode": {
    "name": "ipython",
    "version": 3
   },
   "file_extension": ".py",
   "mimetype": "text/x-python",
   "name": "python",
   "nbconvert_exporter": "python",
   "pygments_lexer": "ipython3",
   "version": "3.9.7"
  }
 },
 "nbformat": 4,
 "nbformat_minor": 5
}
