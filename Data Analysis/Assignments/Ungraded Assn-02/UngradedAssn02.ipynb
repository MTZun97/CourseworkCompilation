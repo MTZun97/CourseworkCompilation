{
 "cells": [
  {
   "cell_type": "markdown",
   "metadata": {},
   "source": [
    "# UngradedAssn02"
   ]
  },
  {
   "cell_type": "markdown",
   "metadata": {},
   "source": [
    "<br>\n",
    "\n",
    "**Goal**: Use Python and Markdown to answer the questions below regarding random variables and probability.\n",
    "\n",
    "<br>\n",
    "<br>\n",
    "\n",
    "Let's import the packages you will need for this assignment:"
   ]
  },
  {
   "cell_type": "code",
   "execution_count": 1,
   "metadata": {},
   "outputs": [],
   "source": [
    "import numpy as np\n",
    "from scipy import stats\n",
    "from matplotlib import pyplot as plt"
   ]
  },
  {
   "cell_type": "markdown",
   "metadata": {},
   "source": [
    "<br>\n",
    "\n",
    "<span style=\"color:#007DD3\"><b>Question 1:</b>   What is the main difference between analytical and numerical probability calculations?</span>\n",
    "\n",
    "<br>\n",
    "\n",
    "1. **Analytical calculation:** Mathematical equation (i.e., analytical equations) are used to calculate probabilities. Various parameters, like mean and standard deviation, are the unknown values in these equations. These functions are generally complex, but they are mathematically precise, so analytical probability calculations are very fast.\n",
    "<br>\n",
    "1. **Numerical calculation:** Random numbers are generated on a computer, and the resulting distributions are used to calculate probabilities. Probability values are usually calculated as the proportion of random numbers that exceeds a particular threshold. Random number generations is often repeated many times (usually 10,000, 100,000, or 1,000,000 times). Numerical probability calculations are generally very slow. They are nevertheless very useful, both (a) for distribution that are difficult or impossible to define analytically, and (b) to validate analytical probabilities.\n",
    "<br>"
   ]
  },
  {
   "cell_type": "markdown",
   "metadata": {},
   "source": [
    "<br>\n",
    "\n",
    "<span style=\"color:#007DD3\"><b>Question 2:</b>   What are two benefits of numerical probability calculations?</span>\n",
    "\n",
    "<br>\n",
    "They are both (a) for distributions which are difficult or impossible to define analytically, and (b) to validate analytical probabilities\n",
    "<br>"
   ]
  },
  {
   "cell_type": "markdown",
   "metadata": {},
   "source": [
    "<br>\n",
    "\n",
    "<span style=\"color:#007DD3\"><b>Question 3:</b>   Is the function depicted below a probability density function?  Why or why not? </span>\n",
    "\n",
    "<br>\n",
    "* No, it is not a PDF because\n",
    "    1. the integral of a PDF must be 1.\n",
    "    1. PDFs cannot have negative values (negative probability is undefined)\n",
    "    1. PDFs must be defined on a domain $(-\\infty < x < +\\infty)$"
   ]
  },
  {
   "cell_type": "code",
   "execution_count": 2,
   "metadata": {},
   "outputs": [
    {
     "data": {
      "image/png": "[encoded data removed]",
      "text/plain": [
       "<Figure size 432x288 with 1 Axes>"
      ]
     },
     "metadata": {
      "needs_background": "light"
     },
     "output_type": "display_data"
    }
   ],
   "source": [
    "x = np.linspace(0, 2*np.pi, 1001)\n",
    "f = np.sin(x)\n",
    "\n",
    "plt.figure()\n",
    "ax = plt.axes()\n",
    "ax.plot(x, f)\n",
    "ax.axhline(0, color='k', linestyle=':')\n",
    "ax.set_xlabel('x', size=14)\n",
    "ax.set_ylabel('f(x)', size=14)\n",
    "plt.show()"
   ]
  },
  {
   "cell_type": "markdown",
   "metadata": {},
   "source": [
    "<br>\n",
    "\n",
    "<span style=\"color:#D30000\"><b>Task 1:</b>   Use Python to numerically verify that the mean and standard deviation of the standard normal distribution are zero and one, respectively.</span>\n",
    "\n",
    "<br>"
   ]
  },
  {
   "cell_type": "code",
   "execution_count": 7,
   "metadata": {},
   "outputs": [
    {
     "name": "stdout",
     "output_type": "stream",
     "text": [
      "Mean:               0.49950003301149365\n",
      "Standard Deviation: 0.2890376411961342\n"
     ]
    }
   ],
   "source": [
    "import numpy as np\n",
    "np.random.seed(0)\n",
    "x = np.random.rand(100000)\n",
    "mean = x.mean()\n",
    "std = x.std(ddof = 1)\n",
    "print(f\"Mean:               {mean}\")\n",
    "print(f\"Standard Deviation: {std}\")"
   ]
  },
  {
   "cell_type": "markdown",
   "metadata": {},
   "source": [
    "<br>\n",
    "\n",
    "<span style=\"color:#D30000\"><b>Task 2:</b>   Use Python to verify $P(x>0.1)=0.9$, where $x$ is a random variable from the standard uniform distribution.</span>\n",
    "\n",
    "<br>"
   ]
  },
  {
   "cell_type": "code",
   "execution_count": 10,
   "metadata": {},
   "outputs": [
    {
     "name": "stdout",
     "output_type": "stream",
     "text": [
      "Analytical : 0.9\n",
      "Numerical  : 0.89911\n"
     ]
    }
   ],
   "source": [
    "from scipy import stats\n",
    "#Analytical method\n",
    "p = stats.uniform.sf(0.1)\n",
    "\n",
    "#Numerical Method\n",
    "np.random.seed(0)\n",
    "a = np.random.rand(100000)\n",
    "p_a = (a > 0.1).mean()\n",
    "\n",
    "print(\"Analytical :\", p)\n",
    "print(\"Numerical  :\", p_a)"
   ]
  },
  {
   "cell_type": "markdown",
   "metadata": {},
   "source": [
    "<br>\n",
    "\n",
    "<span style=\"color:#007DD3\"><b>Question 4:</b>   In the previous question, was the numerical result exactly the same as the expected (analytical) result?  Why or why not?</span>\n",
    "\n",
    "<br>\n",
    "\n",
    "* The analytical and numerical results were not exactly the same because\n",
    "\n",
    "    * Analytical results pertain to an infinitely large set of values, and this is not possible to simulate numerically\n",
    "    * Random number generators are imperfect and only approximately characterize the relevant distributions.\n",
    "    \n",
    "<br>"
   ]
  },
  {
   "cell_type": "markdown",
   "metadata": {},
   "source": [
    "<br>\n",
    "\n",
    "<span style=\"color:#D30000\"><b>Task 3:</b>   Complete the table below using analytical calculations.  Use three significant digits. Show your calculations in Python.</span>\n",
    "\n",
    "<br>"
   ]
  },
  {
   "cell_type": "code",
   "execution_count": 20,
   "metadata": {},
   "outputs": [
    {
     "name": "stdout",
     "output_type": "stream",
     "text": [
      "Uniform, (x>0)    1.0\n",
      "Uniform, (x>0.5)  0.5\n",
      "Uniform, (x>1)    0.0\n",
      "Uniform, (x>2)    0.0\n",
      "Uniform, (x>3)    0.0\n",
      "Normal, (x>0)     0.5\n",
      "Normal, (x>0.5)   0.3085375387259869\n",
      "Normal, (x>1)     0.15865525393145707\n",
      "Normal, (x>2)     0.022750131948179195\n",
      "Normal, (x>3)     0.0013498980316300933\n",
      "$\\chi^2$, (x>0)     0.5\n",
      "Normal, (x>0.5)   0.3085375387259869\n",
      "Normal, (x>1)     0.15865525393145707\n",
      "Normal, (x>2)     0.022750131948179195\n",
      "Normal, (x>3)     0.0013498980316300933\n"
     ]
    }
   ],
   "source": [
    "# Uniform distribution\n",
    "print(\"Uniform, (x>0)   \",stats.uniform.sf(0))\n",
    "print(\"Uniform, (x>0.5) \",stats.uniform.sf(0.5))\n",
    "print(\"Uniform, (x>1)   \",stats.uniform.sf(1))\n",
    "print(\"Uniform, (x>2)   \",stats.uniform.sf(2))\n",
    "print(\"Uniform, (x>3)   \",stats.uniform.sf(3))\n",
    "\n",
    "print(\"Normal, (x>0)    \",stats.norm.sf(0))\n",
    "print(\"Normal, (x>0.5)  \",stats.norm.sf(0.5))\n",
    "print(\"Normal, (x>1)    \",stats.norm.sf(1))\n",
    "print(\"Normal, (x>2)    \",stats.norm.sf(2))\n",
    "print(\"Normal, (x>3)    \",stats.norm.sf(3))\n",
    "\n",
    "print(\"$\\chi^2$, (x>0)    \",stats.norm.sf(0))\n",
    "print(\"Normal, (x>0.5)  \",stats.norm.sf(0.5))\n",
    "print(\"Normal, (x>1)    \",stats.norm.sf(1))\n",
    "print(\"Normal, (x>2)    \",stats.norm.sf(2))\n",
    "print(\"Normal, (x>3)    \",stats.norm.sf(3))"
   ]
  },
  {
   "cell_type": "markdown",
   "metadata": {},
   "source": [
    "<br>\n",
    "\n",
    "<style>\n",
    "table {\n",
    "    width:100%;\n",
    "}\n",
    "</style>\n",
    "\n",
    "Distribution | P(x>0) | P(x>0.5)    | P(x>1.0)    | P(x>2.0)    | P(x>3.0)\n",
    "------------ | ------------ | ------------- | ------------- | ------------- | -------------\n",
    "Uniform      | 1.000        |               |               | 0.000         | 0.000\n",
    "Normal       | 0.500        |               |               |               | \n",
    "$\\chi^2$  ($\\nu=5$)   | 1.000          |               |               |               | \n",
    "\n",
    "<br>\n",
    "<br>\n",
    "<br>\n",
    "<br>\n",
    "<br>"
   ]
  },
  {
   "cell_type": "markdown",
   "metadata": {},
   "source": [
    "<br>\n",
    "\n",
    "<span style=\"color:#D30000\"><b>Task 4:</b>   Numerically verify the analytical survival functions for the following distributions:</span>\n",
    "\n",
    "<span style=\"color:#D30000\">1. standard uniform distribution</span>\n",
    "\n",
    "<span style=\"color:#D30000\">2. standard normal distribution</span>\n",
    "\n",
    "<span style=\"color:#D30000\">3. $\\chi^2$ distribution with 7 degrees of freedom</span>\n",
    "\n",
    "<br>"
   ]
  },
  {
   "cell_type": "markdown",
   "metadata": {},
   "source": [
    "<br>\n",
    "\n",
    "<span style=\"color:#D30000\"><b>Task 5:</b>   Consider the following variables:</span>\n",
    "\n",
    "\n",
    "\n",
    "* <span style=\"color:#D30000\"> $x$ contains 10 values: 0, 1, 2, ... 9</span>\n",
    "\n",
    "* <span style=\"color:#D30000\"> $y$ contains 10 random values from the normal distribution</span>\n",
    "\n",
    "\n",
    "\n",
    "<span style=\"color:#D30000\">Use Python to estimate the probability that the correlation coefficient (between $x$ and $y$) is greater than 0.5.</span>\n",
    "\n",
    "\n",
    "\n",
    "\n",
    "\n",
    "<span style=\"color:#D30000\"><i>Hints</i>:</span>\n",
    "\n",
    "* <span style=\"color:#D30000\"> Calculate this probability numerically using 10000 different sets of random data</span>\n",
    "\n",
    "* <span style=\"color:#D30000\"> Refer to the Open Textbook (Lesson04) for correlation coefficient calculations.</span>\n",
    "\n",
    "<br>"
   ]
  }
 ],
 "metadata": {
  "kernelspec": {
   "display_name": "Python 3 (ipykernel)",
   "language": "python",
   "name": "python3"
  },
  "language_info": {
   "codemirror_mode": {
    "name": "ipython",
    "version": 3
   },
   "file_extension": ".py",
   "mimetype": "text/x-python",
   "name": "python",
   "nbconvert_exporter": "python",
   "pygments_lexer": "ipython3",
   "version": "3.9.7"
  }
 },
 "nbformat": 4,
 "nbformat_minor": 4
}
