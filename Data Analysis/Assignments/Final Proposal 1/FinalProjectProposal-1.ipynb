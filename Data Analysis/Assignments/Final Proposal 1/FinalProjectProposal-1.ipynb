{
 "cells": [
  {
   "cell_type": "markdown",
   "metadata": {},
   "source": [
    "# Final Project Proposal - 1\n",
    "\n",
    "\n",
    "<br>\n",
    "<br>\n",
    "\n",
    "\n",
    "<div class=\"alert alert-block alert-danger\">\n",
    "    <p>⚠️ WARNING</p>\n",
    "    <p>If you plagiarize existing analyses (e.g. copy cells from notebooks on kaggle.com) you will be referred to Kyoto University Administration for academic discipline, and you may receive a grade of 0% on your Final Project and/or relevant assignment submisison. <b>DO NOT PLAGIARIZE</b>. If you are concerned about the possibility of plagiarism, contact the instructor at pataky.todd.2m@kyoto-u.ac.jp</p>\n",
    "</div>\n",
    "\n",
    "<br>\n",
    "<br>"
   ]
  },
  {
   "cell_type": "markdown",
   "metadata": {},
   "source": [
    "___\n",
    "\n",
    "### Overview:\n",
    "\n",
    "* **Name**:  <span style=\"color:blue\">Moe Thiri ZUN</span>\n",
    "* **Student number**:  <span style=\"color:blue\">6530-34-4544</span>\n",
    "* **Project theme**:  <span style=\"color:blue\">Hourly Energy Consumption of a Household</span>\n",
    "\n",
    "<br>"
   ]
  },
  {
   "cell_type": "markdown",
   "metadata": {},
   "source": [
    "# Purpose:\n",
    "\n",
    "* The purpose of this Final Project is to determine the factors that contribute to daily energy consumption of a household.\n",
    "* The key **dependent variable** (DV) is total daily energy consumption, a combination of appliances load (in Wh) and lights load (in Wh)\n",
    "* Key **independent variables** (IVs) include:\n",
    "    * T1, Temperature in kitchen area, in Celsius\n",
    "    * RH_1, Humidity in kitchen area, in %\n",
    "    * T2, Temperature in living room area, in Celsius\n",
    "    * RH_2, Humidity in living room area, in %\n",
    "    * T3, Temperature in laundry room area\n",
    "    * RH_3, Humidity in laundry room area, in %\n",
    "    * T4, Temperature in office room, in Celsius\n",
    "    * RH_4, Humidity in office room, in %\n",
    "    * T5, Temperature in bathroom, in Celsius\n",
    "    * RH_5, Humidity in bathroom, in %\n",
    "    * T6, Temperature outside the building (north side), in Celsius\n",
    "    * RH_6, Humidity outside the building (north side), in %\n",
    "    * T7, Temperature in ironing room , in Celsius\n",
    "    * RH_7, Humidity in ironing room, in %\n",
    "    * T8, Temperature in teenager room 2, in Celsius\n",
    "    * RH_8, Humidity in teenager room 2, in %\n",
    "    * T9, Temperature in parents room, in Celsius\n",
    "    * RH_9, Humidity in parents room, in %\n",
    "    * To, Temperature outside (from Chievres weather station), in Celsius\n",
    "    * Pressure (from Chievres weather station), in mm Hg\n",
    "    * RH_out, Humidity outside (from Chievres weather station), in %\n",
    "    * Wind speed (from Chievres weather station), in m/s\n",
    "    * Visibility (from Chievres weather station), in km\n",
    "    * Tdewpoint (from Chievres weather station), °C\n",
    "* This dataset contains 19735 cases (i.e., data collection for 4.5 months with 10 minute timestep). Each cases has values for all IVs as well as the DV. The timestep analyzed will be in terms of one hour. \n",
    "<br>"
   ]
  },
  {
   "cell_type": "markdown",
   "metadata": {},
   "source": [
    "### Dataset source:\n",
    "\n",
    "The data come from the [Appliance Energy Prediction Data Set](https://archive.ics.uci.edu/ml/datasets/Appliances+energy+prediction) dataset from the [UCI Machine Learning repository](https://archive.ics.uci.edu/ml/index.php):\n",
    "\n",
    "The data are available for download [here](https://archive.ics.uci.edu/ml/machine-learning-databases/00374/).\n",
    "\n",
    "Analyses of this dataset have been published previously in Candanedo et al. (2017).\n",
    "\n",
    "\n",
    "#### References:\n",
    "\n",
    "Luis M. Candanedo, Veronique Feldheim, Dominique Deramaix, Data driven prediction models of energy use of appliances in a low-energy house, Energy and Buildings, Volume 140, 1 April 2017, Pages 81-97, ISSN 0378-7788\n",
    "doi: [10.1016/j.enbuild.2017.01.083](https://doi.org/10.1016/j.enbuild.2017.01.083)\n"
   ]
  },
  {
   "cell_type": "markdown",
   "metadata": {},
   "source": [
    "Very good proposal!\n",
    "\n",
    "I have only one (major) concern: there are many public analyses of this dataset, including those published on Kaggle:\n",
    "\n",
    "https://www.kaggle.com/datasets/loveall/appliances-energy-prediction/code\n",
    "\n",
    "While it is OK to use those analyses as a motivation for your project, you must not copy the methods. Copying the methods and submitting them as your own would be regarded as academic plagiarism. Please ensure that your analyses are your own, and not copied from elsewhere.\n",
    "\n",
    "Otherwise execellent proposal! Both the DV and the IVs are clear, and there could be some very interesting results!"
   ]
  },
  {
   "cell_type": "code",
   "execution_count": null,
   "metadata": {},
   "outputs": [],
   "source": []
  }
 ],
 "metadata": {
  "kernelspec": {
   "display_name": "Python 3 (ipykernel)",
   "language": "python",
   "name": "python3"
  },
  "language_info": {
   "codemirror_mode": {
    "name": "ipython",
    "version": 3
   },
   "file_extension": ".py",
   "mimetype": "text/x-python",
   "name": "python",
   "nbconvert_exporter": "python",
   "pygments_lexer": "ipython3",
   "version": "3.9.7"
  }
 },
 "nbformat": 4,
 "nbformat_minor": 4
}
