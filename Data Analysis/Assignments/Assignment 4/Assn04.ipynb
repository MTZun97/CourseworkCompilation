{
 "cells": [
  {
   "cell_type": "markdown",
   "metadata": {},
   "source": [
    "# Assn04:  &nbsp; &nbsp; **Hypothesis testing**"
   ]
  },
  {
   "cell_type": "markdown",
   "metadata": {},
   "source": [
    "<br>\n",
    "<br>\n",
    "\n",
    "**Goal**: &nbsp; &nbsp;  The main goals of this assignment are:\n",
    "\n",
    "* to practice assembling data from imperfect sources\n",
    "* to practice t tests, using reference datasets and results, to ensure that you can conduct these tests correctly\n",
    "* to practice assembling data into a Markdown table, for succinct reporting purposes\n",
    "\n",
    "By correctly replicating existing results, and succinctly reporting them, you will gain confidence in applying these techniques to your own dataset(s).\n",
    "\n",
    "<br>\n",
    "<br>\n",
    "\n",
    "Answer all **QUESTIONS** in Markdown cells.\n",
    "\n",
    "Answer all **TASKS** in Code and/or Markdown cells, as appropriate.\n",
    "\n",
    "<br>\n",
    "<br>\n",
    "\n",
    "\n",
    "You will need the following packages to complete this assignment:"
   ]
  },
  {
   "cell_type": "code",
   "execution_count": 1,
   "metadata": {},
   "outputs": [],
   "source": [
    "import numpy as np\n",
    "from scipy import stats"
   ]
  },
  {
   "cell_type": "markdown",
   "metadata": {},
   "source": [
    "<br>\n",
    "\n",
    "<span style=\"color:#007DD3\"><b>Question 1:</b>   Are a one-sample t test and a paired t test equivalent?  Why or why not?</span>\n",
    "\n",
    "<br>\n",
    "Both one-sample t test and a paired t-test are hypothesis tests for one independent categorical value and scalar dependent variable, however, the latter is for the paired difference scalar value (two data sets). "
   ]
  },
  {
   "cell_type": "markdown",
   "metadata": {},
   "source": [
    "<br>\n",
    "\n",
    "<span style=\"color:#007DD3\"><b>Question 2:</b>   What is the difference between two-tailed and one-tailed results?</span>\n",
    "\n",
    "<br>\n",
    "One-tailed tests allow for the possibility of an effect in one direction. Two-tailed tests test for the possibility of an effect in two directions—positive and negative. \n",
    "$$p_{two-tail} = 0.5*p_{one-tail}$$"
   ]
  },
  {
   "cell_type": "markdown",
   "metadata": {},
   "source": [
    "<br>\n",
    "\n",
    "<span style=\"color:#D30000\"><b>Task 1:</b>   Use <code>np.mean</code> and <code>np.std</code> to compute the t statistic value for the \"One-sample t test\" example from Lesson 8.2 (see Equation 1).</span>\n",
    "\n",
    "\n",
    "\n",
    "* <span style=\"color:#D30000\">*Note!**  The function <code>np.std</code> uses <code>ddof=0</code> by default; for hypothesis testing you should use <code>np.std(y, ddof=1)</code>.</span>\n",
    "\n",
    "<br>"
   ]
  },
  {
   "cell_type": "code",
   "execution_count": 2,
   "metadata": {},
   "outputs": [
    {
     "name": "stdout",
     "output_type": "stream",
     "text": [
      "t statistic value for the one sample t test 1.449\n"
     ]
    }
   ],
   "source": [
    "y       = np.array([23, 15, -5, 7, 1, -10, 12, -8, 20, 8, -2, -5])  # data\n",
    "count   = len(y)\n",
    "mu      = 0\n",
    "mean    = np.mean(y)\n",
    "std     = np.std(y, ddof = 1)\n",
    "std_err = std/np.sqrt(count)\n",
    "t_stat  = (mean - mu)/std_err\n",
    "\n",
    "print(f\"t statistic value for the one sample t test {t_stat:.3f}\")"
   ]
  },
  {
   "cell_type": "markdown",
   "metadata": {},
   "source": [
    "<br>\n",
    "\n",
    "<span style=\"color:#D30000\"><b>Task 2:</b>   Use <code>np.mean</code> and <code>np.std</code> to compute the t statistic value for the \"Paired t test\" example from Lesson 8.2 (see Equation 2).</span>\n",
    "\n",
    "<br>"
   ]
  },
  {
   "cell_type": "code",
   "execution_count": 3,
   "metadata": {},
   "outputs": [
    {
     "name": "stdout",
     "output_type": "stream",
     "text": [
      "t statistic value for the paired t test -3.629 \n"
     ]
    }
   ],
   "source": [
    "y_pre  = np.array( [3, 0, 6, 7, 4, 3, 2, 1, 4] )\n",
    "y_post = np.array( [5, 1, 5, 7, 10, 9, 7, 11, 8] )\n",
    "\n",
    "d      = y_pre - y_post\n",
    "mean   = np.mean(d)\n",
    "std    = np.std(d, ddof = 1)\n",
    "std_err= std/np.sqrt(count)\n",
    "t_stat = mean/std_err\n",
    "print(f\"t statistic value for the paired t test {t_stat:.3f} \")"
   ]
  },
  {
   "cell_type": "markdown",
   "metadata": {},
   "source": [
    "<br>\n",
    "\n",
    "<span style=\"color:#D30000\"><b>Task 3:</b>   Use <code>np.mean</code> and <code>np.std</code> to compute the t statistic value for the \"Two-sample t test\" example from Lesson 8.2 (see Equation 3).</span>\n",
    "\n",
    "<br>"
   ]
  },
  {
   "cell_type": "code",
   "execution_count": 4,
   "metadata": {},
   "outputs": [
    {
     "name": "stdout",
     "output_type": "stream",
     "text": [
      "t statistic value for the paired t test -0.237 \n"
     ]
    }
   ],
   "source": [
    "beginning = np.array( [3067, 2730, 2840, 2913, 2789] )\n",
    "end       = np.array( [3200, 2777, 2623, 3044, 2834] )\n",
    "\n",
    "n1        = len(beginning)\n",
    "n2        = len(end)\n",
    "y1        = np.mean(beginning)\n",
    "y2        = np.mean(end)\n",
    "s1        = np.std(beginning, ddof = 1)\n",
    "s2        = np.std(end, ddof = 1)\n",
    "sp        = np.sqrt((((n1 - 1) * s1**2) + ((n2 - 1) * s2**2))/(n1+n2-2))\n",
    "t_stat    = (y1 - y2)/(sp*np.sqrt(1/n1 + 1/n2))\n",
    "print(f\"t statistic value for the paired t test {t_stat:.3f} \")"
   ]
  },
  {
   "cell_type": "markdown",
   "metadata": {},
   "source": [
    "<br>\n",
    "\n",
    "<span style=\"color:#D30000\"><b>Task 4:</b>   Use Python to conduct t tests for the following datasets:</span>\n",
    "\n",
    "\n",
    "\n",
    "\n",
    "\n",
    "* <span style=\"color:#D30000\"> <a href=\"https://www.youtube.com/watch?v=OHHhzLHakKA\">Dataset 1</a> (StatisticsHowTo)</span>\n",
    "\n",
    "* <span style=\"color:#D30000\"> <a href=\"http://www.statstutor.ac.uk/resources/uploaded/paired-t-test.pdf\">Dataset 2</a> (StatsTutor.co.uk)</span>\n",
    "\n",
    "* <span style=\"color:#D30000\"> <a href=\"https://www.statsdirect.com/help/parametric_methods/single_sample_t.htm\">Dataset 3</a> (StatsDirect.com)</span>\n",
    "\n",
    "* <span style=\"color:#D30000\"> <a href=\"https://www.youtube.com/watch?v=Q0V7WpzICI8\">Dataset 4</a> (MarinStatsLectures)</span>\n",
    "\n",
    "* <span style=\"color:#D30000\"> <a href=\"http://sphweb.bumc.bu.edu/otlt/MPH-Modules/BS/SAS/SAS4-OneSampleTtest/SAS4-OneSampleTtest6.html\">Dataset 5</a> (Boston University)</span>\n",
    "\n",
    "\n",
    "\n",
    "\n",
    "\n",
    "<span style=\"color:#D30000\">In Python print the test  type, t-value, p-value and null hypothesis rejection decision for each dataset.</span>\n",
    "\n",
    "\n",
    "\n",
    "<span style=\"color:#D30000\">Report t and p values to 3 decimals. For example, use \"0.000\", not \"0.00012345\".</span>\n",
    "\n",
    "\n",
    "\n",
    "\n",
    "\n",
    "<br>"
   ]
  },
  {
   "cell_type": "code",
   "execution_count": 5,
   "metadata": {},
   "outputs": [
    {
     "name": "stdout",
     "output_type": "stream",
     "text": [
      "Using paired t test for dataset 1, t-value is 0.264, p-value is 0.795, and null hypothesis is failed to reject.\n",
      "\n",
      "Using paired t test for dataset2, t-value is 3.231, p-value is 0.004, and null hypothesis is rejected.\n",
      "\n",
      "Using single t test for dataset 3, t-value is 4.512, p-value is 0.000, and null hypothesis is rejected.\n",
      "\n",
      "Using paired t test for dataset 4, t-value is 2.340, p-value is 0.041, and null hypothesis is rejected.\n",
      "\n",
      "Using single t test for dataset 5, t-value is 7.719, p-value is 0.000, and null hypothesis is rejected.\n"
     ]
    }
   ],
   "source": [
    "def pairtest(y1,y2, dataset):\n",
    "    t,p = stats.ttest_rel(y1,y2)\n",
    "    if p < 0.05:\n",
    "        rejection = \"rejected\"\n",
    "    else:\n",
    "        rejection = \"failed to reject\"\n",
    "    print(f\"Using paired t test for {dataset}, t-value is {t:.3f}, p-value is {p:.3f}, and null hypothesis is {rejection}.\" )\n",
    "\n",
    "def singletest(y, mu, dataset):\n",
    "    t, p = stats.ttest_1samp(y,mu)\n",
    "    if p < 0.05:\n",
    "        rejection = \"rejected\"\n",
    "    else:\n",
    "        rejection = \"failed to reject\"\n",
    "    print(f\"Using single t test for {dataset}, t-value is {t:.3f}, p-value is {p:.3f}, and null hypothesis is {rejection}.\" )\n",
    "\n",
    "# Dataset 1: paired t test\n",
    "old = np.array( [44, 49, 56, 51, 38, 44, 61, 51, 49, 60, 39, 51, 43, 37, 45] )\n",
    "new = np.array( [51, 42, 37, 45, 47, 65, 49, 69, 38, 44, 49, 56, 51, 50, 38] )\n",
    "\n",
    "# Dataset 2: paired t test\n",
    "pre_module  = np.array( [18, 21, 16, 22, 19, 24, 17, 21, 23, 18, 14, 16, 16, 19, 18, 20, 12, 22, 15, 17] )\n",
    "post_module = np.array( [22, 25, 17, 24, 16, 29, 20, 23, 19, 20, 15, 15, 18, 26, 18, 24, 18, 25, 19, 16] )\n",
    "\n",
    "# Dataset 3: one sample t test\n",
    "bp = np.array( [128, 118, 144, 133, 132, 111, 149, 139, 136, 126, 127, 115, 142, 140, 131, 132, 122, 119, 129, 128] )\n",
    "\n",
    "# Dataset 4: paired t test\n",
    "before = np.array( [135, 142, 137, 122, 147, 151, 131, 117, 154, 143, 133] )\n",
    "after  = np.array( [127, 145, 131, 125, 132, 147, 119, 125, 132, 139, 122] )\n",
    "\n",
    "# Dataset 5: one sample t test\n",
    "chol52 = np.array( [240, 243, 250, 254, 264, 279, 284, 285, 290, 298, 302, 310, 312, 315, 322, 337, 348, 384, 386, 520] )\n",
    "\n",
    "\n",
    "dataset1 = pairtest(new,old, \"dataset 1\")\n",
    "print()\n",
    "dataset2 = pairtest(post_module, pre_module, \"dataset2\")\n",
    "print()\n",
    "dataset3 = singletest(bp, 120, \"dataset 3\")\n",
    "print()\n",
    "dataset4 = pairtest(before,after, \"dataset 4\")\n",
    "print()\n",
    "dataset5 = singletest(chol52, 200, \"dataset 5\")"
   ]
  },
  {
   "cell_type": "markdown",
   "metadata": {},
   "source": [
    "<br>\n",
    "\n",
    "<span style=\"color:#D30000\"><b>Task 5:</b>   (Markdown Task)</span>\n",
    "\n",
    "\n",
    "\n",
    "\n",
    "\n",
    "<span style=\"color:#D30000\">Assemble your t test results into a Markdown table like the one below.</span>\n",
    "\n",
    "<br>"
   ]
  },
  {
   "cell_type": "markdown",
   "metadata": {},
   "source": [
    "Dataset |  Test type    | t    | p    | H0 rejected?\n",
    "------------ | ------------ | ------------- | ------------- | -------------\n",
    "1      |   paired   |  0.264 |   0.795    | No\n",
    "2      |   paired   |  3.231 |   0.004    | Yes\n",
    "3      | one-sample |  4.512 |   0.000    | Yes\n",
    "4      |   paired   |  2.340 |   0.041    | Yes\n",
    "5      | one-sample |  6.724 |   0.000    | Yes"
   ]
  },
  {
   "cell_type": "markdown",
   "metadata": {},
   "source": [
    "Q1 (-1): good answer, but not quite correct! They are actually mathematically identical. The only difference is the nature of the dependent variable, but that it is only relevant to the user, and is irrelevant to the test itself.\n",
    "\n",
    " \n",
    "\n",
    "There is a minor error in your table results (the last t-value should be \"7.719\"), but you calculated this value correctly above the table so there are no points deducted. Please be careful when assembling numerical results!  I know that it is boring, but it is a very important part of data analysis and reporting. \n",
    "\n",
    " \n",
    "\n",
    "Otherwise excellent!"
   ]
  },
  {
   "cell_type": "code",
   "execution_count": null,
   "metadata": {},
   "outputs": [],
   "source": []
  }
 ],
 "metadata": {
  "kernelspec": {
   "display_name": "Python 3 (ipykernel)",
   "language": "python",
   "name": "python3"
  },
  "language_info": {
   "codemirror_mode": {
    "name": "ipython",
    "version": 3
   },
   "file_extension": ".py",
   "mimetype": "text/x-python",
   "name": "python",
   "nbconvert_exporter": "python",
   "pygments_lexer": "ipython3",
   "version": "3.9.7"
  }
 },
 "nbformat": 4,
 "nbformat_minor": 4
}
