{
 "cells": [
  {
   "cell_type": "markdown",
   "metadata": {},
   "source": [
    "# Quiz 01"
   ]
  },
  {
   "cell_type": "markdown",
   "metadata": {},
   "source": [
    "Refer to Lessons 01-06 in the [open textbook](https://github.com/0todd0000/OpenBook-DataAnalysisPracticeInPythonAndJupyter) when completing this quiz\n",
    "\n",
    "<br>\n",
    "\n",
    "**Instructions**:\n",
    "\n",
    "* Enter answers in the \"<i>Enter answer here</i>\" cells below.\n",
    "* Do NOT create or delete any cells.\n",
    "* Do NOT change cell types (e.g. from `Markdown` to `Code`).\n",
    "\n",
    "<br>\n",
    "\n",
    "___"
   ]
  },
  {
   "cell_type": "markdown",
   "metadata": {},
   "source": [
    "<br>\n",
    "\n",
    "<span style=\"color:#007DD3\"><b>Question 1:</b>   What is the Markdown code for writing \"Subtitle\" as a Level 2 heading?</span>\n",
    "\n",
    "<br>"
   ]
  },
  {
   "cell_type": "markdown",
   "metadata": {},
   "source": [
    "## Subtitle"
   ]
  },
  {
   "cell_type": "markdown",
   "metadata": {},
   "source": [
    "<br>\n",
    "\n",
    "<span style=\"color:#007DD3\"><b>Question 2:</b>   What are the mean and standard deviation values for the standard normal distribution?</span>\n",
    "\n",
    "<br>"
   ]
  },
  {
   "cell_type": "markdown",
   "metadata": {},
   "source": [
    "mean = 0  \n",
    "standard = 1"
   ]
  },
  {
   "cell_type": "markdown",
   "metadata": {},
   "source": [
    "<br>\n",
    "\n",
    "<span style=\"color:#007DD3\"><b>Question 3:</b>   Write a Python function that represents the following equation: &nbsp; &nbsp; $f(x) = 5(x^2 - 1) + 1$</span>\n",
    "\n",
    "<br>"
   ]
  },
  {
   "cell_type": "code",
   "execution_count": null,
   "metadata": {
    "scrolled": true
   },
   "outputs": [],
   "source": [
    "y = 5 * ( x**2 - 1 ) + 1"
   ]
  },
  {
   "cell_type": "markdown",
   "metadata": {},
   "source": [
    "<br>\n",
    "\n",
    "<span style=\"color:#007DD3\"><b>Question 4:</b>   Use numpy to caluculate the average of the following numbers: 10, 15, 12, 14, 16, 15, 19</span>\n",
    "\n",
    "<br>"
   ]
  },
  {
   "cell_type": "code",
   "execution_count": 2,
   "metadata": {},
   "outputs": [
    {
     "name": "stdout",
     "output_type": "stream",
     "text": [
      "14.428571428571429\n"
     ]
    }
   ],
   "source": [
    "import numpy as np\n",
    "average = np.mean([ 10, 15, 12, 14, 16, 15, 19])\n",
    "print ( average )"
   ]
  },
  {
   "cell_type": "markdown",
   "metadata": {},
   "source": [
    "<br>\n",
    "\n",
    "<span style=\"color:#007DD3\"><b>Question 5:</b>   Enter Python code for creating a <code>(5, 3)</code> array of random numbers from the standard normal distribution (i.e., 5 rows and 3 columns)</span>\n",
    "\n",
    "<br>"
   ]
  },
  {
   "cell_type": "code",
   "execution_count": 3,
   "metadata": {},
   "outputs": [
    {
     "name": "stdout",
     "output_type": "stream",
     "text": [
      "[[ 0.15865752  0.95300289  0.46427774]\n",
      " [ 1.0661649   0.16504496  0.18883702]\n",
      " [ 1.55325741 -0.646066   -1.55861913]\n",
      " [-2.20069989  1.55043612 -1.47839363]\n",
      " [ 1.37050248 -0.04316961 -1.0559588 ]]\n"
     ]
    }
   ],
   "source": [
    "x = np.random.randn( 5, 3 )\n",
    "print( x )"
   ]
  },
  {
   "cell_type": "markdown",
   "metadata": {},
   "source": [
    "<br>\n",
    "\n",
    "<span style=\"color:#007DD3\"><b>Question 6:</b>   Enter Python code to extract the middle column from the array you created in the question above.</span>\n",
    "\n",
    "<br>"
   ]
  },
  {
   "cell_type": "code",
   "execution_count": 4,
   "metadata": {},
   "outputs": [
    {
     "name": "stdout",
     "output_type": "stream",
     "text": [
      "[ 0.95300289  0.16504496 -0.646066    1.55043612 -0.04316961]\n"
     ]
    }
   ],
   "source": [
    "a = x.T[1]\n",
    "print ( a )"
   ]
  },
  {
   "cell_type": "markdown",
   "metadata": {},
   "source": [
    "<br>\n",
    "\n",
    "<span style=\"color:#007DD3\"><b>Question 7:</b>   What function(s) can be used to set the X-axis and Y-axis labels in a Matplotlib figure?</span>\n",
    "\n",
    "<br>"
   ]
  },
  {
   "cell_type": "markdown",
   "metadata": {},
   "source": [
    "plt.xlabel(\" \")  \n",
    "plt.ylabel(\" \")"
   ]
  },
  {
   "cell_type": "markdown",
   "metadata": {},
   "source": [
    "<br>\n",
    "\n",
    "<span style=\"color:#007DD3\"><b>Question 8:</b>   What does \"parse\" mean?</span>\n",
    "\n",
    "<br>"
   ]
  },
  {
   "cell_type": "markdown",
   "metadata": {},
   "source": [
    "It is the process of converting a pieces of python program to machine language to analyze  the correct syntax of the code."
   ]
  },
  {
   "cell_type": "markdown",
   "metadata": {},
   "source": [
    "<br>\n",
    "\n",
    "<span style=\"color:#007DD3\"><b>Question 9:</b>   What NumPy and Pandas functions can be used to read well-formatted CSV files? List one NumPy function and one Pandas function. (\"<i>well-formatted</i>\" means that there are no errors in the CSV file, for example extra commas, missing values, or empty lines) </span>\n",
    "\n",
    "<br>"
   ]
  },
  {
   "cell_type": "markdown",
   "metadata": {},
   "source": [
    "a = np.loadtxt(\" \", delimeter = \",\")  \n",
    "b = pd.read_csv(\" \")"
   ]
  },
  {
   "cell_type": "markdown",
   "metadata": {},
   "source": [
    "<br>\n",
    "\n",
    "<span style=\"color:#007DD3\"><b>Question 10:</b>   What is a script?</span>\n",
    "\n",
    "<br>"
   ]
  },
  {
   "cell_type": "markdown",
   "metadata": {},
   "source": [
    "A script is a .py (ASCII) file, containing sequence of arbitary python commands to solve a specific programming problem. "
   ]
  },
  {
   "cell_type": "markdown",
   "metadata": {},
   "source": [
    "<br>\n",
    "\n",
    "<span style=\"color:#007DD3\"><b>Question 11:</b>   What extension do Python scripts have?  (an <a href=\"https://en.wikipedia.org/wiki/Filename_extension\">extension</a> is the set of characters that follow the final period <code>.</code> in a file name)</span>\n",
    "\n",
    "<br>"
   ]
  },
  {
   "cell_type": "markdown",
   "metadata": {},
   "source": [
    ".py is used"
   ]
  },
  {
   "cell_type": "markdown",
   "metadata": {},
   "source": [
    "<br>\n",
    "\n",
    "<span style=\"color:#007DD3\"><b>Question 12:</b>   What command can be used in a Jupyter cell to run a script?</span>\n",
    "\n",
    "<br>"
   ]
  },
  {
   "cell_type": "markdown",
   "metadata": {},
   "source": [
    "%run ~.py  \n",
    "~ = name of the script"
   ]
  },
  {
   "cell_type": "markdown",
   "metadata": {},
   "source": [
    "<br>\n",
    "\n",
    "<span style=\"color:#007DD3\"><b>Question 13:</b>   Which is the best strategy? (Choose the best answer)</span>\n",
    "\n",
    "\n",
    "\n",
    "<span style=\"color:#007DD3\">1. Always show all parsing and analysis code in a single notebook.</span>\n",
    "\n",
    "<span style=\"color:#007DD3\">2. Separate parsing and analysis code into separate notebooks and/or scripts.</span>\n",
    "\n",
    "<span style=\"color:#007DD3\">3. Never save your analysis code in scripts.</span>\n",
    "\n",
    "<span style=\"color:#007DD3\">4. Always use a single notebook for all reports.</span>\n",
    "\n",
    "<br>"
   ]
  },
  {
   "cell_type": "markdown",
   "metadata": {},
   "source": [
    "2."
   ]
  },
  {
   "cell_type": "markdown",
   "metadata": {},
   "source": [
    "Very good!\n",
    "\n",
    " \n",
    "\n",
    "Question 6: Minor comment: your answer is correct, but it is usually a bit easier to read an array slicing command like this:\n",
    "\n",
    "a = x[:,1]\n",
    " \n",
    "\n",
    "Question 8: -1 Incorrect. \"Parse\" means reading and interpreting. Your answer refers to \"compiling\" and not \"parsing\".\n",
    "\n",
    " \n",
    "\n",
    "Otherwise excellent!\n",
    "\n",
    " "
   ]
  },
  {
   "cell_type": "code",
   "execution_count": null,
   "metadata": {},
   "outputs": [],
   "source": []
  }
 ],
 "metadata": {
  "kernelspec": {
   "display_name": "Python 3 (ipykernel)",
   "language": "python",
   "name": "python3"
  },
  "language_info": {
   "codemirror_mode": {
    "name": "ipython",
    "version": 3
   },
   "file_extension": ".py",
   "mimetype": "text/x-python",
   "name": "python",
   "nbconvert_exporter": "python",
   "pygments_lexer": "ipython3",
   "version": "3.9.7"
  }
 },
 "nbformat": 4,
 "nbformat_minor": 4
}
