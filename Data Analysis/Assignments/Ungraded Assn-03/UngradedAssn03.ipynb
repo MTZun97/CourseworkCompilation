{
 "cells": [
  {
   "cell_type": "markdown",
   "metadata": {},
   "source": [
    "# UngradedAssn03: Simulating experiments"
   ]
  },
  {
   "cell_type": "markdown",
   "metadata": {},
   "source": [
    "### Overview\n",
    "\n",
    "<br>\n",
    "\n",
    "Consider the following two-sample data from [Real Statistics](https://www.real-statistics.com/students-t-distribution/two-sample-t-test-equal-variances/):\n",
    "\n",
    "&nbsp;\n",
    "\n",
    "<img alt=\"data\" width=500 src=\"https://i0.wp.com/www.real-statistics.com/wp-content/uploads/2012/11/two-sample-t-test.png?w=660\">"
   ]
  },
  {
   "cell_type": "markdown",
   "metadata": {},
   "source": [
    "<br>\n",
    "<br>\n",
    "\n",
    "The results for this dataset are:\n",
    "\n",
    "<img alt=\"data\" width=300 src=\"https://www.real-statistics.com/wp-content/uploads/2022/06/two-sample-analysis-excel.png?w=303\">"
   ]
  },
  {
   "cell_type": "markdown",
   "metadata": {},
   "source": [
    "<br>\n",
    "<br>\n",
    "\n",
    "Recall that the two-sample t statistic is defined as:\n",
    "\n",
    "\n",
    "<table border=\"1\">\n",
    "  <tr>\n",
    "    <td></td>\n",
    "    <td></td>\n",
    "    <td>$t = \\frac{  \\overline{y}_1   - \\overline{y}_2  }{  s_p  \\sqrt{ \\frac{1}{n_1} + \\frac{1}{n_2}  }  }$</td>\n",
    "    <td></td>\n",
    "    <td>(Equation 3)</td>\n",
    "  </tr>\n",
    "  <tr>\n",
    "</table>\n",
    "\n",
    "\n",
    "where $s_p$ is the pooled standard deviation:\n",
    "\n",
    "<center>$s_p = \\sqrt{   \\frac{(n_1 - 1)s_1^2 + (n_2 - 1)s_2^2}{n_1 + n_2 - 2}   }$</center>\n",
    "\n",
    "<br>"
   ]
  },
  {
   "cell_type": "markdown",
   "metadata": {},
   "source": [
    "<br>\n",
    "<br>\n",
    "<br>\n",
    "\n",
    "___\n",
    "\n",
    "### Questions & Tasks\n",
    "\n",
    "<br>\n",
    "\n",
    "In order to complete the tasks below, you will need the following packages:"
   ]
  },
  {
   "cell_type": "code",
   "execution_count": 1,
   "metadata": {},
   "outputs": [],
   "source": [
    "import numpy as np\n",
    "from scipy import stats\n",
    "from matplotlib import pyplot as plt"
   ]
  },
  {
   "cell_type": "markdown",
   "metadata": {},
   "source": [
    "<br>\n",
    "\n",
    "<span style=\"color:#D30000\"><b>Task 1:</b>   Write a function called <code>t_two_sample</code> which (1) has two input arguments: <code>yA</code> and <code>yB</code>, and which (2) calculates the t-value for a two-sample test.</span>\n",
    "\n",
    "<br>"
   ]
  },
  {
   "cell_type": "markdown",
   "metadata": {},
   "source": [
    "<br>\n",
    "\n",
    "<span style=\"color:#D30000\"><b>Task 2:</b>   Use your <code>t_two_sample</code> function to verify the t value reported for the dataset above ( $t = 2.177$ ).</span>\n",
    "\n",
    "<br>"
   ]
  },
  {
   "cell_type": "markdown",
   "metadata": {},
   "source": [
    "<br>\n",
    "\n",
    "<span style=\"color:#D30000\"><b>Task 3:</b>   Use <code>scipy.stats.t.sf</code> to verify the p value reported for the dataset above ( $p = 0.022$ ).</span>\n",
    "\n",
    "<br>"
   ]
  },
  {
   "cell_type": "markdown",
   "metadata": {},
   "source": [
    "<br>\n",
    "\n",
    "<span style=\"color:#D30000\"><b>Task 4:</b>   Simulate at least 1000 two-sample experiments to numerically verify the reported p value ( $p = 0.022$ ).</span>\n",
    "\n",
    "<br>"
   ]
  },
  {
   "cell_type": "markdown",
   "metadata": {},
   "source": [
    "**Hints**:\n",
    "\n",
    "* For each experiment, use your `t_two_sample` function (above) to calculate the two-sample t value.\n",
    "\n",
    "* Also use:  \n",
    "\n",
    "    * $n_\\textrm{A} = n_\\textrm{B} = 10 \\hspace{5mm}$  <span style=\"color:blue\">(sample size)</span>\n",
    "\n",
    "    * $\\mu_\\textrm{A} = \\mu_\\textrm{B} = 0 \\hspace{5mm}$  <span style=\"color:blue\">(means when $H_0$ is true)</span>\n",
    "\n",
    "    * $\\sigma_\\textrm{A} = \\sigma_\\textrm{B} = 1 \\hspace{5mm}$  <span style=\"color:blue\">(true SD values)</span>\n",
    "\n",
    "    * $N \\ge 1000 \\hspace{5mm}$   <span style=\"color:blue\">(number of experiments)</span>\n",
    "\n",
    "\n",
    "* When simulating experiments, <span style=\"color:blue\">ensure that you use the Normal distribution</span> (**np.random.rand<span style=\"color:red\">n</span>**)  <span style=\"color:blue\">and NOT the Uniform distribution</span> (**np.random.rand**)\n",
    "\n",
    "\n"
   ]
  },
  {
   "cell_type": "markdown",
   "metadata": {},
   "source": [
    "<br>\n",
    "\n",
    "<span style=\"color:#007DD3\"><b>Question 1:</b>   For the one-sample t test, why is $\\hspace{2mm} \\nu = n-1 \\hspace{2mm}$?</span>\n",
    "\n",
    "\n",
    "\n",
    "<span style=\"color:#007DD3\">(This question is not answered in the lesson notebooks. You may need to search books or the internet to find the answer.)</span>\n",
    "\n",
    "<br>"
   ]
  }
 ],
 "metadata": {
  "kernelspec": {
   "display_name": "Python 3 (ipykernel)",
   "language": "python",
   "name": "python3"
  },
  "language_info": {
   "codemirror_mode": {
    "name": "ipython",
    "version": 3
   },
   "file_extension": ".py",
   "mimetype": "text/x-python",
   "name": "python",
   "nbconvert_exporter": "python",
   "pygments_lexer": "python",
   "version": "3.9.13"
  }
 },
 "nbformat": 4,
 "nbformat_minor": 4
}
