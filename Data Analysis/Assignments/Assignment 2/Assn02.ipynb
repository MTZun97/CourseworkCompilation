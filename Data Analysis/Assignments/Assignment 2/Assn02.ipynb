{
 "cells": [
  {
   "cell_type": "markdown",
   "metadata": {},
   "source": [
    "# Assignment 02:  Python basics\n",
    "\n",
    "The purpose of this assignment is learn the fundamentals of Python programming, including:\n",
    "\n",
    "1. Basic math\n",
    "1. Variables\n",
    "1. Lists, tuples and arrays\n",
    "1. Packages: `math` and `numpy`\n",
    "1. Functions"
   ]
  },
  {
   "cell_type": "markdown",
   "metadata": {},
   "source": [
    "___\n",
    "\n",
    "### Example problem\n",
    "\n",
    "Q. Use Python to calculate and print the result of:\n",
    "\n",
    "<br>\n",
    "\n",
    "<center>$\\begin{eqnarray*}\n",
    "    4 \\times 5\n",
    "\\end{eqnarray*}$</center>\n",
    "\n",
    "### Answer to example problem:"
   ]
  },
  {
   "cell_type": "code",
   "execution_count": 1,
   "metadata": {},
   "outputs": [
    {
     "name": "stdout",
     "output_type": "stream",
     "text": [
      "20\n"
     ]
    }
   ],
   "source": [
    "print( 4 * 5 )"
   ]
  },
  {
   "cell_type": "markdown",
   "metadata": {},
   "source": [
    "___\n",
    "\n",
    "# (1)  Basic math"
   ]
  },
  {
   "cell_type": "markdown",
   "metadata": {},
   "source": [
    "**Question 1**:   Use Python to calculate and print the result of:\n",
    "\n",
    "<br>\n",
    "\n",
    "<center>$\\begin{eqnarray*}\n",
    "    (3 + 1) \\times 2\n",
    "\\end{eqnarray*}$</center>"
   ]
  },
  {
   "cell_type": "code",
   "execution_count": 1,
   "metadata": {},
   "outputs": [
    {
     "name": "stdout",
     "output_type": "stream",
     "text": [
      "8\n"
     ]
    }
   ],
   "source": [
    "print((3+1)*2)"
   ]
  },
  {
   "cell_type": "markdown",
   "metadata": {},
   "source": [
    "**Question 2**:   Use Python to calculate and print the result of:\n",
    "\n",
    "<br>\n",
    "\n",
    "<center>$\\begin{eqnarray*}\n",
    "    (4 + 6) ^ 2\n",
    "\\end{eqnarray*}$</center>"
   ]
  },
  {
   "cell_type": "code",
   "execution_count": 2,
   "metadata": {},
   "outputs": [
    {
     "name": "stdout",
     "output_type": "stream",
     "text": [
      "100\n"
     ]
    }
   ],
   "source": [
    "print((4+6)**2)"
   ]
  },
  {
   "cell_type": "markdown",
   "metadata": {},
   "source": [
    "**Question 3**:   Use Python to calculate and print the result of:\n",
    "\n",
    "<br>\n",
    "\n",
    "<center>$\\begin{eqnarray*}\n",
    "    \\frac{ (3 + 1) \\times 2 }{ (4 + 6) ^ 2 }\n",
    "\\end{eqnarray*}$</center>"
   ]
  },
  {
   "cell_type": "code",
   "execution_count": 3,
   "metadata": {},
   "outputs": [
    {
     "name": "stdout",
     "output_type": "stream",
     "text": [
      "0.08\n"
     ]
    }
   ],
   "source": [
    "print(((3+1)*2)/(4+6)**2)"
   ]
  },
  {
   "cell_type": "markdown",
   "metadata": {},
   "source": [
    "___\n",
    "\n",
    "# (2)  Variables"
   ]
  },
  {
   "cell_type": "markdown",
   "metadata": {},
   "source": [
    "**Question 4**:   Use Python to calculate then print the value of `y`.\n",
    "\n",
    "<br>\n",
    "\n",
    "<center>$\\begin{eqnarray*}\n",
    "    x &=& 5 \\\\\n",
    "    y &=& (x^2 + 1)\n",
    "\\end{eqnarray*}$</center>"
   ]
  },
  {
   "cell_type": "code",
   "execution_count": 4,
   "metadata": {},
   "outputs": [
    {
     "name": "stdout",
     "output_type": "stream",
     "text": [
      "26\n"
     ]
    }
   ],
   "source": [
    "x=5\n",
    "y=(x**2 + 1)\n",
    "print(y)"
   ]
  },
  {
   "cell_type": "markdown",
   "metadata": {},
   "source": [
    "**Question 5**:   Use Python to calculate then print the value of `y`.\n",
    "\n",
    "<br>\n",
    "\n",
    "<center>$\\begin{eqnarray*}\n",
    "    a &=& 5 \\\\\n",
    "    b &=& 10 \\\\\n",
    "    c &=& 20 \\\\\n",
    "    x &=& -1 \\\\\n",
    "    y &=& (ax^2 + bx + c)\n",
    "\\end{eqnarray*}$</center>"
   ]
  },
  {
   "cell_type": "code",
   "execution_count": 5,
   "metadata": {},
   "outputs": [
    {
     "name": "stdout",
     "output_type": "stream",
     "text": [
      "15\n"
     ]
    }
   ],
   "source": [
    "a = 5; b = 10; c= 20; x=-1;\n",
    "y = (a*x**2) + (b*x) + c\n",
    "print(y)"
   ]
  },
  {
   "cell_type": "markdown",
   "metadata": {},
   "source": [
    "**Question 6**:   Use Python to calculate then print the value of `y`.\n",
    "\n",
    "<br>\n",
    "\n",
    "<center>$\\begin{eqnarray*}\n",
    "    x_0 &=& 50 \\\\\n",
    "    x_1 &=& 3 x_0 - 50\\\\\n",
    "    y &=& \\left(\\frac{x_0}{x_1}\\right)^2\n",
    "\\end{eqnarray*}$</center>"
   ]
  },
  {
   "cell_type": "code",
   "execution_count": 6,
   "metadata": {},
   "outputs": [
    {
     "name": "stdout",
     "output_type": "stream",
     "text": [
      "0.25\n"
     ]
    }
   ],
   "source": [
    "x0 = 50; x1= 3*x0 - 50\n",
    "y = (x0/x1)**2\n",
    "print(y)"
   ]
  },
  {
   "cell_type": "markdown",
   "metadata": {},
   "source": [
    "___\n",
    "\n",
    "# (3) Lists and tuples"
   ]
  },
  {
   "cell_type": "markdown",
   "metadata": {},
   "source": [
    "**Question 7**:   Use Python to construct `x` as a **list**, then print its **second** value.\n",
    "\n",
    "<br>\n",
    "\n",
    "<center>$\\begin{eqnarray*}\n",
    "    x &=& \\begin{bmatrix}10 & 8 & 20 & 6 & 30\\end{bmatrix}\n",
    "\\end{eqnarray*}$</center>"
   ]
  },
  {
   "cell_type": "code",
   "execution_count": 7,
   "metadata": {},
   "outputs": [
    {
     "name": "stdout",
     "output_type": "stream",
     "text": [
      "8\n"
     ]
    }
   ],
   "source": [
    "x = [10,8,20,6,30]\n",
    "print(x[1])"
   ]
  },
  {
   "cell_type": "markdown",
   "metadata": {},
   "source": [
    "**Question 8**:   Use Python to construct `x` as a **tuple**, then print its **last** value.\n",
    "\n",
    "<br>\n",
    "\n",
    "<center>$\\begin{eqnarray*}\n",
    "    x &=& \\begin{pmatrix}5 & 2 & 1\\end{pmatrix}\n",
    "\\end{eqnarray*}$</center>"
   ]
  },
  {
   "cell_type": "code",
   "execution_count": 8,
   "metadata": {},
   "outputs": [
    {
     "name": "stdout",
     "output_type": "stream",
     "text": [
      "1\n"
     ]
    }
   ],
   "source": [
    "x = (5,2,1)\n",
    "print(x[-1])"
   ]
  },
  {
   "cell_type": "markdown",
   "metadata": {},
   "source": [
    "**Question 9**:   Use Python to construct `x` as a **list** of **tuples**, then print the **last** tuple.\n",
    "\n",
    "<br>\n",
    "\n",
    "<center>$\\begin{eqnarray*}\n",
    "    x &=& \\begin{bmatrix}\\begin{pmatrix}5 & 2 & 1\\end{pmatrix}, \\begin{pmatrix}1 & 3 & 3\\end{pmatrix}, \\begin{pmatrix}0 & -1 & -2\\end{pmatrix}\\end{bmatrix}\n",
    "\\end{eqnarray*}$</center>"
   ]
  },
  {
   "cell_type": "code",
   "execution_count": 9,
   "metadata": {},
   "outputs": [
    {
     "name": "stdout",
     "output_type": "stream",
     "text": [
      "(0, -1, -2)\n"
     ]
    }
   ],
   "source": [
    "x = [(5,2,1),(1,3,3),(0,-1,-2)]\n",
    "print(x[-1])"
   ]
  },
  {
   "cell_type": "markdown",
   "metadata": {},
   "source": [
    "**Question 10**:   Use Python to create an empty list `x`, then use three `append` commands to create and print the following list. \n",
    "\n",
    "**NOTE!**: your Python code should have **five** commands including three `append` commands and one `print` command.\n",
    "\n",
    "<br>\n",
    "\n",
    "<center>$\\begin{eqnarray*}\n",
    "    x &=& \\begin{bmatrix}5 & \\begin{pmatrix}1 & 2\\end{pmatrix}  & \\begin{bmatrix}4 & 5 & 6\\end{bmatrix}\\end{bmatrix}\n",
    "\\end{eqnarray*}$</center>"
   ]
  },
  {
   "cell_type": "code",
   "execution_count": 13,
   "metadata": {},
   "outputs": [
    {
     "name": "stdout",
     "output_type": "stream",
     "text": [
      "[5, (1, 2), [4, 5, 6]]\n"
     ]
    }
   ],
   "source": [
    "x = []\n",
    "x.append(5)\n",
    "x.append((1,2))\n",
    "x.append([4,5,6])\n",
    "print(x)"
   ]
  },
  {
   "cell_type": "markdown",
   "metadata": {},
   "source": [
    "___\n",
    "\n",
    "# (4) Packages: math and numpy\n",
    "\n",
    "### `math`"
   ]
  },
  {
   "cell_type": "markdown",
   "metadata": {},
   "source": [
    "**Question 11**:   Use the `math` package to calculate `x`. Print the result.\n",
    "\n",
    "<br>\n",
    "\n",
    "<center>$\\begin{eqnarray*}\n",
    "    x &=& \\sin(\\pi/2) - \\cos(\\pi) \n",
    "\\end{eqnarray*}$</center>"
   ]
  },
  {
   "cell_type": "code",
   "execution_count": 2,
   "metadata": {},
   "outputs": [
    {
     "name": "stdout",
     "output_type": "stream",
     "text": [
      "2.0\n"
     ]
    }
   ],
   "source": [
    "import math\n",
    "x = math.sin(math.pi/2)-math.cos(math.pi)\n",
    "print(x)"
   ]
  },
  {
   "cell_type": "markdown",
   "metadata": {},
   "source": [
    "**Question 12**:   Use the `math` package to calculate `y`. Print the result.\n",
    "\n",
    "<br>\n",
    "\n",
    "<center>$\\begin{eqnarray*}\n",
    "    x_0 &=& 3\\\\\n",
    "    x_1 &=& 4\\\\\n",
    "    y &=& \\sqrt{x_0^2 + x_1^2}\n",
    "\\end{eqnarray*}$</center>"
   ]
  },
  {
   "cell_type": "code",
   "execution_count": 21,
   "metadata": {},
   "outputs": [
    {
     "name": "stdout",
     "output_type": "stream",
     "text": [
      "5.0\n"
     ]
    }
   ],
   "source": [
    "x0=3; x1=4\n",
    "y=math.sqrt(x0**2 + x1**2)\n",
    "print(y)"
   ]
  },
  {
   "cell_type": "markdown",
   "metadata": {},
   "source": [
    "**Question 13**:   Use the `math` package to calculate `x`. Print the result.\n",
    "\n",
    "<br>\n",
    "\n",
    "<center>$\\begin{eqnarray*}\n",
    "    x &=& e ^ {\\log(10) }\n",
    "\\end{eqnarray*}$</center>"
   ]
  },
  {
   "cell_type": "code",
   "execution_count": 7,
   "metadata": {},
   "outputs": [
    {
     "name": "stdout",
     "output_type": "stream",
     "text": [
      "2.718281828459045\n"
     ]
    }
   ],
   "source": [
    "x = math.exp(math.log10(10))\n",
    "print(x)"
   ]
  },
  {
   "cell_type": "markdown",
   "metadata": {},
   "source": [
    "### `numpy`"
   ]
  },
  {
   "cell_type": "markdown",
   "metadata": {},
   "source": [
    "**Question 14**:    Use the `numpy` package to construct the following 1D array. Print the result.\n",
    "\n",
    "<br>\n",
    "\n",
    "<center>$\\begin{eqnarray*}\n",
    "    x &=& \\begin{bmatrix}5 & 2 & 1\\end{bmatrix}\n",
    "\\end{eqnarray*}$</center>"
   ]
  },
  {
   "cell_type": "code",
   "execution_count": 3,
   "metadata": {},
   "outputs": [
    {
     "name": "stdout",
     "output_type": "stream",
     "text": [
      "[5 2 1]\n"
     ]
    }
   ],
   "source": [
    "import numpy as np\n",
    "x = np.array([5,2,1])\n",
    "print(x)"
   ]
  },
  {
   "cell_type": "markdown",
   "metadata": {},
   "source": [
    "**Question 15**:    Use the `numpy` package to construct the following 2D array. Print the result.\n",
    "\n",
    "<br>\n",
    "\n",
    "<center>$\\begin{eqnarray*}\n",
    "    x &=& \\begin{bmatrix}5 & 2 & 1\\\\ 1 & 3 & 3\\\\ 0 & -1 & -2\\end{bmatrix}\n",
    "\\end{eqnarray*}$</center>"
   ]
  },
  {
   "cell_type": "code",
   "execution_count": 27,
   "metadata": {},
   "outputs": [
    {
     "name": "stdout",
     "output_type": "stream",
     "text": [
      "[[ 5  2  1]\n",
      " [ 1  3  3]\n",
      " [ 0 -1 -2]]\n"
     ]
    }
   ],
   "source": [
    "x = np.array([[5,2,1],[1,3,3],[0,-1,-2]])\n",
    "print(x)"
   ]
  },
  {
   "cell_type": "markdown",
   "metadata": {},
   "source": [
    "**Question 16**:   Use the `numpy` package to compute `x`. Print the result.\n",
    "\n",
    "<br>\n",
    "\n",
    "<center>$\\begin{eqnarray*}\n",
    "    x &=& \\begin{bmatrix}5\\\\2\\\\1\\end{bmatrix} + 1\n",
    "\\end{eqnarray*}$</center>"
   ]
  },
  {
   "cell_type": "code",
   "execution_count": 4,
   "metadata": {},
   "outputs": [
    {
     "name": "stdout",
     "output_type": "stream",
     "text": [
      "[[6]\n",
      " [3]\n",
      " [2]]\n"
     ]
    }
   ],
   "source": [
    "x = np.array([5,2,1]).reshape(3,1) + 1\n",
    "print(x)"
   ]
  },
  {
   "cell_type": "markdown",
   "metadata": {},
   "source": [
    "**Question 17**:   Use the `numpy` package to compute `x`. Print the result.\n",
    "\n",
    "<br>\n",
    "\n",
    "<center>$\\begin{eqnarray*}\n",
    "    x &=& \\begin{bmatrix}5\\\\2\\\\1\\end{bmatrix} + \\begin{bmatrix}3\\\\-4\\\\8\\end{bmatrix}\n",
    "\\end{eqnarray*}$</center>"
   ]
  },
  {
   "cell_type": "code",
   "execution_count": 5,
   "metadata": {},
   "outputs": [
    {
     "name": "stdout",
     "output_type": "stream",
     "text": [
      "[[ 8]\n",
      " [-2]\n",
      " [ 9]]\n"
     ]
    }
   ],
   "source": [
    "x = np.array([5,2,1]).reshape(3,1) + np.array([3,-4,8]).reshape(3,1)\n",
    "print(x)"
   ]
  },
  {
   "cell_type": "markdown",
   "metadata": {},
   "source": [
    "___\n",
    "\n",
    "# (5) Functions"
   ]
  },
  {
   "cell_type": "markdown",
   "metadata": {},
   "source": [
    "**Question 18**:   Create a function called `myfunction` that calculates $f(x)$. Use this function to calculate $f(x)$ for $x=5$. Print the result.\n",
    "\n",
    "<br>\n",
    "\n",
    "<center>$\\begin{eqnarray*}\n",
    "    f(x) &=& 2(x - 1) + 5\n",
    "\\end{eqnarray*}$</center>"
   ]
  },
  {
   "cell_type": "code",
   "execution_count": 6,
   "metadata": {},
   "outputs": [
    {
     "name": "stdout",
     "output_type": "stream",
     "text": [
      "13\n"
     ]
    }
   ],
   "source": [
    "def myfunction(x):\n",
    "    f_x = 2*(x-1) + 5\n",
    "    return f_x\n",
    "print(myfunction(5))"
   ]
  },
  {
   "cell_type": "markdown",
   "metadata": {},
   "source": [
    "**Question 19**:   Create a function called `two_argument_function` that calculates $f(a, b)$. Use this function to calculate $f(a, b)$ for $a=3$ and $b=2$. Print the result.\n",
    "\n",
    "<br>\n",
    "\n",
    "<center>$\\begin{eqnarray*}\n",
    "    f(a, b) &=& b^a + 1\n",
    "\\end{eqnarray*}$</center>"
   ]
  },
  {
   "cell_type": "code",
   "execution_count": 7,
   "metadata": {},
   "outputs": [
    {
     "name": "stdout",
     "output_type": "stream",
     "text": [
      "9\n"
     ]
    }
   ],
   "source": [
    "def two_argument_function(a,b):\n",
    "    f_ab = b**a + 1\n",
    "    return f_ab\n",
    "print(two_argument_function(3,2))"
   ]
  },
  {
   "cell_type": "markdown",
   "metadata": {},
   "source": [
    "**Question 20**:   Create a function called `add_vectors` that calculates $f(\\boldsymbol{x}_0, \\boldsymbol{x}_1)$. Use this function to calculate $f(\\boldsymbol{x}_0, \\boldsymbol{x}_1)$ for $\\boldsymbol{x}_0=\\begin{bmatrix}5\\\\2\\\\1\\end{bmatrix}$ and $\\boldsymbol{x}_1=\\begin{bmatrix}1\\\\2\\\\10\\end{bmatrix}$. Print the result.\n",
    "\n",
    "<br>\n",
    "\n",
    "<center>$\\begin{eqnarray*}\n",
    "    f(\\boldsymbol{x}_0, \\boldsymbol{x}_1) &=&  \\boldsymbol{x}_0 + \\boldsymbol{x}_1\n",
    "\\end{eqnarray*}$</center>"
   ]
  },
  {
   "cell_type": "code",
   "execution_count": 12,
   "metadata": {},
   "outputs": [
    {
     "name": "stdout",
     "output_type": "stream",
     "text": [
      "[[ 6]\n",
      " [ 4]\n",
      " [11]]\n"
     ]
    }
   ],
   "source": [
    "def add_vectors(x0,x1):\n",
    "    f_x0x1 = x0 + x1\n",
    "    return f_x0x1\n",
    "print(add_vectors(np.array([[5],[2],[1]]),np.array([[1],[2],[10]])))"
   ]
  },
  {
   "cell_type": "markdown",
   "metadata": {},
   "source": [
    "**Question 21**:   Create a Python function that represent the following mathematical function:\n",
    "\n",
    "<br> \n",
    "\n",
    "<center>$\\begin{eqnarray*}\n",
    "    f(\\boldsymbol{a}, b, c) &=& b\\boldsymbol{a} + \\begin{bmatrix}0\\\\c\\\\0\\end{bmatrix}\n",
    "\\end{eqnarray*}$</center>\n",
    "\n",
    "<br> \n",
    "\n",
    "Note that $\\boldsymbol{a}$ is a vector, and that $b$ and $c$ are scalars.\n",
    "\n",
    "<br>\n",
    "\n",
    "Use the function you created to calculate $f(\\boldsymbol{a},b,c)$ for: $\\boldsymbol{a} = \\begin{bmatrix}1\\\\0\\\\2\\end{bmatrix}$, $b=5$ and $c$=10.\n",
    "\n",
    "Print your solution.\n",
    "\n",
    "<br> \n",
    "\n"
   ]
  },
  {
   "cell_type": "code",
   "execution_count": 15,
   "metadata": {
    "scrolled": true
   },
   "outputs": [
    {
     "name": "stdout",
     "output_type": "stream",
     "text": [
      "[[ 5]\n",
      " [10]\n",
      " [10]]\n"
     ]
    }
   ],
   "source": [
    "def func(a,b,c):\n",
    "    f = b*a + np.array([0,c,0]).reshape(3,1)\n",
    "    return f\n",
    "print(func(np.array([[1],[0],[2]]),5,10))\n"
   ]
  },
  {
   "cell_type": "markdown",
   "metadata": {},
   "source": [
    "Very good work! Superb Python coding!\n",
    "\n",
    "I only have two minor suggestions:\n",
    "\n",
    "(1) Please avoid using multiple statements on one line like this:\n",
    "\n",
    "x0 = 50; x1= 3*x0 - 50\n",
    "It will be much easier to read and debug your code if you use one command per line, like this:\n",
    "\n",
    "x0 = 50\n",
    "x1 = 3*x0 - 50\n",
    " \n",
    "\n",
    "(2) I also suggest using 1D arrays wherever possible; in Question 20 & 21 you have used column vectors; this is OK in general, and is very important in other programming languages. In most Python applications it is unnecessary to distinguish row vectors from column vectors, so usually just a 1D vector is best. The ONLY time it may be necessary to use column vectors is when conducting linear algebra (e.g. multiplying a matrix by a vector ). In all other cases I've seen, a 1D array is better. Your code for Question 20, for example would change from this:\n",
    "\n",
    "print(add_vectors(np.array([[5],[2],[1]]),np.array([[1],[2],[10]])))\n",
    "to this:\n",
    "\n",
    "print(   add_vectors( np.array([5,2,1]) , np.array([1,2,10]) )   )\n",
    "Easy-to-read code like this will become increasingly important as we move forward this semester!"
   ]
  },
  {
   "cell_type": "code",
   "execution_count": null,
   "metadata": {},
   "outputs": [],
   "source": []
  }
 ],
 "metadata": {
  "kernelspec": {
   "display_name": "Python 3 (ipykernel)",
   "language": "python",
   "name": "python3"
  },
  "language_info": {
   "codemirror_mode": {
    "name": "ipython",
    "version": 3
   },
   "file_extension": ".py",
   "mimetype": "text/x-python",
   "name": "python",
   "nbconvert_exporter": "python",
   "pygments_lexer": "ipython3",
   "version": "3.9.7"
  }
 },
 "nbformat": 4,
 "nbformat_minor": 2
}
